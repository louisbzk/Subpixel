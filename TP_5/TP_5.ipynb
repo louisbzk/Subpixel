{
 "cells": [
  {
   "cell_type": "code",
   "execution_count": null,
   "metadata": {
    "collapsed": true
   },
   "outputs": [],
   "source": [
    "import numpy as np\n",
    "import matplotlib.pyplot as plt\n",
    "import imtools as im"
   ]
  },
  {
   "cell_type": "markdown",
   "source": [
    "## Exercice 17, Q2 et Q3\n",
    "\n",
    "(Q1 traitée en classe)\n",
    "\n",
    "#### Q2\n",
    "\n",
    "On note $v$ le signal obtenu à partir d'un zoom de $u$ d'un facteur 2 par interpolation linéaire, et $U$ l'interpolée linéaire de $u$. On a :\n",
    "\n",
    "\\begin{equation*}\n",
    "\\begin{split}\n",
    "\\hat{v}(\\xi) &= \\sum_{k \\in \\mathbb{Z}} v(k) e^{-ik\\xi}\\\\\n",
    "             &= \\sum_{k \\in \\mathbb{Z}} U\\left( \\frac{k}{2} \\right) e^{-ik\\xi}\\\\\n",
    "             &= \\sum_{k \\in \\mathbb{Z}} U \\left( \\frac{2k}{2} \\right) e^{-i(2k)\\xi} + \\sum_{k \\in \\mathbb{Z}} U \\left( \\frac{2k+1}{2} \\right) e^{-i(2k+1)\\xi}\\\\\n",
    "             &= \\sum_{k \\in \\mathbb{Z}} U (k) e^{-i(2k)\\xi} + \\sum_{k \\in \\mathbb{Z}} \\frac{1}{2} \\left( u(k) + u(k+1) \\right) e^{-i(2k+1)\\xi}\\\\\n",
    "             &= \\sum_{k \\in \\mathbb{Z}} u(k) e^{-ik(2\\xi)} \\left( 1 + \\frac{1}{2} \\left( e^{-i(k+1)\\xi} + e^{-i(k-1)\\xi} \\right) \\right)\\\\\n",
    "             &= \\hat{u}(2\\xi) \\left(1 + \\frac{1}{2} \\left( e^{-i\\xi} + e^{i\\xi} \\right) \\right)\\\\\n",
    "             &= \\hat{u}(2\\xi) \\left( 1 + \\cos(2\\xi) \\right)\n",
    "\\end{split}\n",
    "\\end{equation*}\n",
    "\n",
    "D'autre part, on a, pour $U_S$ l'interpolée de Shannon de $u$ :\n",
    "\n",
    "\\begin{equation*}\n",
    "\\begin{split}\n",
    "U_s\\left( \\frac{k}{2} \\right) &= \\frac{1}{2} \\frac{1}{2\\pi} \\int_{-2\\pi}^{2\\pi} \\hat{u}(\\xi) e^{i\\frac{k}{2}\\xi} d\\xi\\\\\n",
    "                              &= \\frac{1}{4\\pi} \\cdot 2 \\int_{-\\pi}^{\\pi} \\hat{u}(2\\nu) e^{ik\\nu} d\\nu \\text{ avec } \\nu \\leftarrow \\frac{\\xi}{2}\\\\\n",
    "                              &= \\frac{1}{2\\pi} \\int_{-\\pi}^{\\pi} \\hat{u}(2\\nu) e^{ik\\nu} d\\nu\\\\\n",
    "                              &= w(k)\n",
    "\\end{split}\n",
    "\\end{equation*}\n",
    "\n",
    "On a donc :\n",
    "\n",
    "$$\\hat{w}(\\xi) = \\hat{u}(2\\xi)$$\n",
    "\n",
    "d'où :\n",
    "\n",
    "$$\\hat{v}(\\xi) = \\hat{w}(\\xi) \\left( 1 + \\cos(\\xi) \\right)$$\n",
    "\n",
    "Du fait de la dépendance en $\\hat{u}(2\\xi)$ dans les transformées de Fourier des signaux obtenus après zoom, on obtient un repliement des fréquences : considérant $\\xi \\geq \\pi$, on a $2\\xi \\geq 2\\pi$ soit $2\\xi \\in [0, 2\\pi]$ par $2\\pi$-périodicité. Les hautes fréquences du spectre de $w$ sont en fait un repliement du spectre de $u$, on introduit donc des hautes fréquences parasites dans le signal. De plus, le terme $1 + \\cos(\\xi)$ dans l'expression de la transformée de Fourier de $v$ indique une modulation en amplitude des fréquences : les basses et hautes fréquences de $v$ (qui correspondent aux basses et hautes fréquences de $u$) sont amplifiées tandis que les fréquences moyennes (qui correspondent aux hautes fréquences de $u$, et des basses fréquences périodisées) sont identiques. Les discontinuités ou fortes variations du signal sont donc amplifiées, ce qui augmente l'importance du bruit haute-fréquence, tout en floutant le signal par l'amplification des basses fréquences.\n",
    "\n"
   ],
   "metadata": {
    "collapsed": false
   }
  },
  {
   "cell_type": "code",
   "execution_count": null,
   "outputs": [],
   "source": [
    "plt.figure(figsize=(6, 6))\n",
    "_x = np.linspace(0., 2 * np.pi, 300)\n",
    "plt.plot(_x, 1 + np.cos(_x))\n",
    "_ = plt.suptitle('Fonction de modulation des fréquences de $v$')"
   ],
   "metadata": {
    "collapsed": false
   }
  },
  {
   "cell_type": "markdown",
   "source": [
    "#### Q3\n",
    "\n",
    "La transformée de Fourier de l'image zoomée par interpolation de Shannon s'écrit :\n",
    "\n",
    "$$\\hat{w}(\\alpha, \\beta) = I_{\\Omega}(\\alpha, \\beta) \\cdot 2^2 \\varepsilon\\left(\\frac{\\alpha}{M}\\right) \\varepsilon\\left(\\frac{\\beta}{N}\\right) \\hat{u}(\\alpha, \\beta)$$\n",
    "\n",
    "où $I_{\\Omega}$ est la fonction indicatrice de $\\Omega$, et $\\varepsilon(t) = \\frac{1}{2}$ si $\\vert t \\vert = \\frac{1}{2}$, $1$ sinon.\n",
    "\n",
    "On voit par cette expression qu'aucun aliasing n'est possible, c'est-à-dire qu'aucune fréquence de $u$ ne peut être repliée par périodicité, du fait de la présence de la fonction indicatrice.\n",
    "\n",
    "Calculons maintenant l'expression de la transformée de Fourier de $v$, obtenue par interpolation bilinéaire de $u$.\n",
    "On utilisera les notations $I_M = \\{ 0, \\hdots, M-1 \\}$,  $I_N = \\{ 0, \\hdots, N-1 \\}$, et $\\Omega_v = I_{2M} \\times I_{2N}$\n",
    "\n",
    "\\begin{equation*}\n",
    "\\begin{split}\n",
    "\\hat{v}(\\alpha, \\beta) &= \\sum_{(k, l) \\in \\Omega_v} v(k, l) e^{-2i\\pi \\left( \\dfrac{\\alpha k}{M} + \\dfrac{\\beta l}{N} \\right)}\\\\\n",
    "                       &= \\sum_{(k, l) \\in \\Omega_v} U\\left(\\frac{k}{2}, \\frac{l}{2}\\right) e^{-2i\\pi \\left( \\dfrac{\\alpha k}{M} + \\dfrac{\\beta l}{N} \\right)}\\\\\n",
    "                       &= \\sum_{(k, l) \\in I_M \\times I_N} U\\left(\\frac{2k}{2}, \\frac{2l}{2}\\right) e^{-2i\\pi \\left( \\dfrac{\\alpha 2k}{M} + \\dfrac{\\beta 2l}{N} \\right)}\\\\\n",
    "                       &\\quad+ \\sum_{(k, l) \\in I_M \\times I_N} U\\left(\\frac{2k+1}{2}, \\frac{2l}{2}\\right) e^{-2i\\pi \\left( \\dfrac{\\alpha (2k+1)}{M} + \\dfrac{\\beta 2l}{N} \\right)}\\\\\n",
    "                       &\\quad+ \\sum_{(k, l) \\in I_M \\times I_N} U\\left(\\frac{2k}{2}, \\frac{2l+1}{2}\\right) e^{-2i\\pi \\left( \\dfrac{\\alpha 2k}{M} + \\dfrac{\\beta (2l+1)}{N} \\right)}\\\\\n",
    "                       &\\quad+ \\sum_{(k, l) \\in I_M \\times I_N} U\\left(\\frac{2k+1}{2}, \\frac{2l+1}{2}\\right) e^{-2i\\pi \\left( \\dfrac{\\alpha 2k+1}{M} + \\dfrac{\\beta 2l+1}{N} \\right)}\\\\\n",
    "\\end{split}\n",
    "\\end{equation*}\n",
    "\n",
    "où on a divisé les sommes par parité des indices. On a\n",
    "\n",
    "\\begin{equation*}\n",
    "\\begin{split}\n",
    "& \\sum_{(k, l) \\in I_M \\times I_N} U\\left(\\frac{2k}{2}, \\frac{2l}{2}\\right) e^{-2i\\pi \\left( \\dfrac{\\alpha 2k}{M} + \\dfrac{\\beta 2l}{N} \\right)}\\\\\n",
    "&= \\sum_{(k, l) \\in I_M \\times I_N} u\\left(k, l\\right) e^{-2i\\pi \\left( \\dfrac{\\alpha 2k}{M} + \\dfrac{\\beta 2l}{N} \\right)}\\\\\n",
    "&= \\hat{u}(2\\alpha, 2\\beta)\\\\\n",
    "\\end{split}\n",
    "\\end{equation*}\n",
    "\n",
    "Calculons maintenant l'une des sommes pour lesquelles un terme impair apparaît :\n",
    "\n",
    "\n",
    "\\begin{equation*}\n",
    "\\begin{split}\n",
    "& \\sum_{(k, l) \\in I_M \\times I_N} U\\left(\\frac{2k+1}{2}, \\frac{2l}{2}\\right) e^{-2i\\pi \\left( \\dfrac{\\alpha (2k+1)}{M} + \\dfrac{\\beta 2l}{N} \\right)}\\\\\n",
    "&= \\frac{1}{2} \\sum_{(k, l) \\in I_M \\times I_N} \\left(u(k, l) + u(k+1, l)\\right) e^{-2i\\pi \\left( \\dfrac{\\alpha (2k+1)}{M} + \\dfrac{\\beta 2l}{N} \\right)}\\\\\n",
    "&= \\frac{1}{2} e^{-2i\\pi\\dfrac{\\alpha}{M}} \\sum_{(k, l) \\in I_M \\times I_N} u(k, l) e^{-2i\\pi \\left( \\dfrac{\\alpha 2k}{M} + \\dfrac{\\beta 2l}{N} \\right)}\\\\\n",
    "&\\quad+ \\frac{1}{2} \\sum_{(k, l) \\in I_M \\times I_N} u(k+1, l) e^{-2i\\pi \\left( \\dfrac{\\alpha (2k+1)}{M} + \\dfrac{\\beta 2l}{N} \\right)}\\\\\n",
    "&= \\frac{1}{2} e^{-2i\\pi \\dfrac{\\alpha}{M}} \\hat{u}(2\\alpha, 2\\beta)\\\\\n",
    "&\\quad+ \\frac{1}{2}  \\sum_{(k, l) \\in \\left(I_M \\backslash \\{ M-1 \\}\\right) \\times I_N} u(k+1, l) e^{-2i\\pi \\left( \\dfrac{\\alpha (2k+1)}{M} + \\dfrac{\\beta 2l}{N} \\right)}\\\\\n",
    "&\\quad+ \\frac{1}{2} \\sum_{l \\in I_N} u(M, l) e^{-2i\\pi \\left( \\dfrac{\\alpha (2M-1)}{M} + \\dfrac{\\beta 2l}{N} \\right)}\\\\\n",
    "\\end{split}\n",
    "\\end{equation*}\n",
    "\n",
    "Or, par périodicité de $u$, on a : $\\forall l \\in I_N, u(M, l) = u(0, l)$ et de plus, $e^{-2i\\pi \\dfrac{\\alpha (2M-1)}{M}} = e^{2i\\pi\\dfrac{\\alpha}{M}} = e^{-2i\\pi \\dfrac{\\alpha (2\\times 0-1)}{M}}$.\n",
    "\n",
    "En procédant au changement d'indice $k \\leftarrow k+1$ dans la deuxième somme ci-dessus, et en regroupant les deux sommes, on obtient :\n",
    "\n",
    "\\begin{equation*}\n",
    "\\begin{split}\n",
    "& \\sum_{(k, l) \\in I_M \\times I_N} U\\left(\\frac{2k+1}{2}, \\frac{2l}{2}\\right) e^{-2i\\pi \\left( \\dfrac{\\alpha (2k+1)}{M} + \\dfrac{\\beta 2l}{N} \\right)}\\\\\n",
    "&= \\frac{1}{2} e^{-2i\\pi \\dfrac{\\alpha}{M}} \\hat{u}(2\\alpha, 2\\beta)\\\\\n",
    "&\\quad + e^{2i\\pi \\dfrac{\\alpha}{M}} \\sum_{(k, l) \\in I_M \\times I_N} u(k, l) e^{-2i\\pi \\left( \\dfrac{\\alpha 2k}{M} + \\dfrac{\\beta 2l}{N} \\right)}\\\\\n",
    "&= \\frac{1}{2} \\hat{u}(2\\alpha, 2\\beta) \\left( e^{-2i\\pi \\dfrac{\\alpha}{M}} + e^{2i\\pi \\dfrac{\\alpha}{M}} \\right)\\\\\n",
    "&= \\hat{u}(2\\alpha, 2\\beta) \\cos\\left(2\\pi \\frac{\\alpha}{M}\\right)\\\\\n",
    "\\end{split}\n",
    "\\end{equation*}\n",
    "\n",
    "De la même façon, on obtient finalement :\n",
    "\n",
    "\\begin{equation*}\n",
    "\\begin{split}\n",
    "\\hat{v}(\\alpha, \\beta) &= \\hat{u}(2\\alpha, 2\\beta) \\left( 1 +  \\cos\\left(2\\pi \\frac{\\alpha}{M}\\right) + \\cos\\left(2\\pi \\frac{\\beta}{N}\\right) + \\frac{1}{2}\\cos\\left(2\\pi \\frac{\\alpha}{M}\\right) \\cos\\left(2\\pi \\frac{\\beta}{N}\\right) \\right)\n",
    "\\end{split}\n",
    "\\end{equation*}\n",
    "\n",
    "Comme dans le cas précédent, on introduit de l'aliasing dans l'image, et les fréquences sont modulées de sorte que :\n",
    "\n",
    "* les basses fréquences sont grandement amplifiées, ce qui floute l'image,\n",
    "* les hautes fréquences sont grandement amplifiées (sauf lorsque le terme d'une dimension contre-balance le terme de l'autre, i.e. les signes des cosinus sont opposés), ce qui augmente l'importance des discontinuités,\n",
    "* les fréquences moyennes sont peu impactées\n"
   ],
   "metadata": {
    "collapsed": false
   }
  },
  {
   "cell_type": "code",
   "execution_count": null,
   "outputs": [],
   "source": [
    "_x = np.linspace(-2 * np.pi, 2 * np.pi, 500)\n",
    "xx, yy = np.meshgrid(_x, _x)\n",
    "zz = 1 + np.cos(xx) + np.cos(yy) + np.cos(xx) * np.cos(yy)\n",
    "plt.figure(figsize=(6, 6))\n",
    "plt.imshow(zz, cmap='gray', extent=[-2 * np.pi, 2 * np.pi, -2 * np.pi, 2 * np.pi])\n",
    "_ = plt.colorbar()\n",
    "cont = plt.contour(xx, yy, zz, levels=[0.01, 1., 2., 3.])\n",
    "plt.clabel(cont)\n",
    "_ = plt.suptitle('Fonction de modulation des fréquences de $v$')"
   ],
   "metadata": {
    "collapsed": false
   }
  },
  {
   "cell_type": "markdown",
   "source": [
    "## Exercice 18\n"
   ],
   "metadata": {
    "collapsed": false
   }
  },
  {
   "cell_type": "code",
   "execution_count": null,
   "outputs": [],
   "source": [
    "c_bouc = im.load('crop_bouc.pgm').astype('double')\n",
    "c_cam = im.load('crop_cameraman.pgm').astype('double')"
   ],
   "metadata": {
    "collapsed": false
   }
  },
  {
   "cell_type": "code",
   "execution_count": null,
   "outputs": [],
   "source": [
    "orders = [-3, 3, 5, 11]\n",
    "boucs = []\n",
    "cams = []\n",
    "for order in orders:\n",
    "    v_bouc = im.fzoom(c_bouc, 16, order)\n",
    "    v_cam = im.fzoom(c_cam, 16, order)\n",
    "    boucs.append(v_bouc)\n",
    "    cams.append(v_cam)\n",
    "\n",
    "boucs = np.array(boucs)\n",
    "cams = np.array(cams)"
   ],
   "metadata": {
    "collapsed": false
   }
  },
  {
   "cell_type": "code",
   "execution_count": null,
   "outputs": [],
   "source": [
    "# Visualize the zoomed pictures\n",
    "interp_names = ['Bicubic-Keys',\n",
    "                f'B-spline {orders[1]}',\n",
    "                f'B-spline {orders[2]}',\n",
    "                f'B-spline {orders[3]}',]\n",
    "_, ax = plt.subplots(2, 2, figsize=(24, 24))\n",
    "for i in range(2):\n",
    "    for j in range(2):\n",
    "        ax[i][j].imshow(boucs[2 * i + j], cmap='gray')\n",
    "        ax[i][j].set_title(interp_names[2 * i + j])"
   ],
   "metadata": {
    "collapsed": false
   }
  },
  {
   "cell_type": "code",
   "execution_count": null,
   "outputs": [],
   "source": [
    "_, ax = plt.subplots(2, 2, figsize=(24, 24))\n",
    "for i in range(2):\n",
    "    for j in range(2):\n",
    "        ax[i][j].imshow(cams[2 * i + j], cmap='gray')\n",
    "        ax[i][j].set_title(interp_names[2 * i + j])"
   ],
   "metadata": {
    "collapsed": false
   }
  },
  {
   "cell_type": "markdown",
   "source": [
    "Pour l'image `bouc`, l'augmentation de l'ordre de la B-Spline sembler produire une image de meilleure qualité, tandis qu'on observe des artefacts sur l'image `cameraman` (notamment au niveau des cheveux et de la caméra en bas à droite) qui ressemblent à des ondes pures, indiquant que l'image est aliasée.\n",
    "\n",
    "On préférera donc l'interpolation B-Spline pour la première image, tandis que l'interpolation bicubique-Keys est préférable pour la seconde étant donné qu'elle n'introduit pas d'aliasing.\n",
    "\n",
    "On peut justifier ces choix en inspectant les transformées de Fourier des images originales"
   ],
   "metadata": {
    "collapsed": false
   }
  },
  {
   "cell_type": "code",
   "execution_count": null,
   "outputs": [],
   "source": [
    "bouc = im.load('bouc.pgm').astype('double')\n",
    "camera = im.load('cameraman.pgm').astype('double')"
   ],
   "metadata": {
    "collapsed": false
   }
  },
  {
   "cell_type": "code",
   "execution_count": null,
   "outputs": [],
   "source": [
    "bouc_fft = np.fft.fftshift(np.fft.fft2(bouc))\n",
    "camera_fft = np.fft.fftshift(np.fft.fft2(camera))"
   ],
   "metadata": {
    "collapsed": false
   }
  },
  {
   "cell_type": "code",
   "execution_count": null,
   "outputs": [],
   "source": [
    "bouc_mod = np.log(1. + np.abs(bouc_fft))\n",
    "camera_mod = np.log(1. + np.abs(camera_fft))\n",
    "bouc_phase = np.angle(bouc_fft)\n",
    "camera_phase = np.angle(camera_fft)"
   ],
   "metadata": {
    "collapsed": false
   }
  },
  {
   "cell_type": "code",
   "execution_count": null,
   "outputs": [],
   "source": [
    "_, ax = plt.subplots(1, 2, figsize=(16, 8))\n",
    "ax[0].imshow(bouc_mod, cmap='gray')\n",
    "ax[1].imshow(bouc_phase, cmap='gray')"
   ],
   "metadata": {
    "collapsed": false
   }
  },
  {
   "cell_type": "code",
   "execution_count": null,
   "outputs": [],
   "source": [
    "_, ax = plt.subplots(1, 2, figsize=(16, 8))\n",
    "ax[0].imshow(camera_mod, cmap='gray')\n",
    "ax[1].imshow(camera_phase, cmap='gray')"
   ],
   "metadata": {
    "collapsed": false
   }
  },
  {
   "cell_type": "markdown",
   "source": [
    "On observe du repliement de spectre dans la transformée de Fourier de l'image `cameraman`, ce qui explique pourquoi l'augmentation de l'ordre de la B-Spline accentue les artefacts de l'image : le support de la B-Spline grandissant lorsque l'ordre augmente, on réalise l'interpolation avec de plus en plus de fréquences aliasées. Il est préférable de choisir la méthode bicubique-Keys qui a un support relativement restreint par rapport aux splines d'ordres élevés."
   ],
   "metadata": {
    "collapsed": false
   }
  },
  {
   "cell_type": "code",
   "execution_count": null,
   "outputs": [],
   "source": [],
   "metadata": {
    "collapsed": false
   }
  }
 ],
 "metadata": {
  "kernelspec": {
   "display_name": "Python 3",
   "language": "python",
   "name": "python3"
  },
  "language_info": {
   "codemirror_mode": {
    "name": "ipython",
    "version": 2
   },
   "file_extension": ".py",
   "mimetype": "text/x-python",
   "name": "python",
   "nbconvert_exporter": "python",
   "pygments_lexer": "ipython2",
   "version": "2.7.6"
  }
 },
 "nbformat": 4,
 "nbformat_minor": 0
}
