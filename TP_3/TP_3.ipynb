{
 "cells": [
  {
   "cell_type": "markdown",
   "source": [
    "# Exercice 10\n",
    "\n",
    "### Q1\n",
    "\n",
    "Pour une image $u$, son coefficient de Fourier $\\hat{u} (k, l)$ correspond au coefficient associé à l'onde pure de vecteur d'onde $\\overrightarrow{y} = (k, l)$ dans $u$. Le module de ce coefficient est donc l'amplitude de cette onde dans l'image $u$, et sa phase à la phase de cette onde dans l'image (et est donc reliée à la valeur de l'onde à l'origine, i.e. au \"shift\" de cette onde le long de son vecteur d'onde)"
   ],
   "metadata": {
    "collapsed": false
   }
  },
  {
   "cell_type": "code",
   "execution_count": null,
   "outputs": [],
   "source": [
    "import numpy as np\n",
    "import imtools as im\n",
    "import matplotlib.pyplot as plt\n",
    "import cv2"
   ],
   "metadata": {
    "collapsed": false
   }
  },
  {
   "cell_type": "code",
   "execution_count": null,
   "outputs": [],
   "source": [
    "lena = im.load('lena.pgm').astype('double')\n",
    "room = im.load('room.pgm').astype('double')\n",
    "nimes = im.load('nimes.pgm').astype('double')"
   ],
   "metadata": {
    "collapsed": false
   }
  },
  {
   "cell_type": "code",
   "execution_count": null,
   "outputs": [],
   "source": [
    "def exchange_phase(u: np.ndarray, v: np.ndarray) -> (np.ndarray, np.ndarray):\n",
    "    \"\"\"\n",
    "    Create two new images by exchanging the phases of u and v.\n",
    "    \"\"\"\n",
    "    if not np.array_equal(u.shape, v.shape):\n",
    "        raise ValueError(f'u and v have different shapes : {u.shape} and {v.shape}')\n",
    "\n",
    "    u_fft = np.fft.fft2(u)\n",
    "    v_fft = np.fft.fft2(v)\n",
    "    u_mod, u_phase = np.abs(u_fft), np.angle(u_fft)\n",
    "    v_mod, v_phase = np.abs(v_fft), np.angle(v_fft)\n",
    "\n",
    "    u_swap = np.abs(np.fft.ifft2(v_mod * np.exp(u_phase * 1j)))\n",
    "    v_swap = np.abs(np.fft.ifft2(u_mod * np.exp(v_phase * 1j)))\n",
    "    return v_swap, u_swap  # inverted phases"
   ],
   "metadata": {
    "collapsed": false
   }
  },
  {
   "cell_type": "code",
   "execution_count": null,
   "outputs": [],
   "source": [
    "def phase_swap_plot(u, v):\n",
    "    u_swap, v_swap = exchange_phase(u, v)\n",
    "    fig = plt.figure(figsize=(8, 8))\n",
    "\n",
    "    (subfig1, subfig2) = fig.subfigures(2, 1)\n",
    "    ax1 = subfig1.subplots(1, 2)\n",
    "    ax2 = subfig2.subplots(1, 2)\n",
    "\n",
    "    subfig1.suptitle('Original images')\n",
    "    ax1[0].imshow(u, cmap='gray')\n",
    "    ax1[1].imshow(v, cmap='gray')\n",
    "\n",
    "    subfig2.suptitle('Phase-swapped images')\n",
    "    ax2[0].imshow(u_swap, cmap='gray')\n",
    "    ax2[1].imshow(v_swap, cmap='gray')"
   ],
   "metadata": {
    "collapsed": false
   }
  },
  {
   "cell_type": "code",
   "execution_count": null,
   "outputs": [],
   "source": [
    "phase_swap_plot(lena, room)"
   ],
   "metadata": {
    "collapsed": false
   }
  },
  {
   "cell_type": "markdown",
   "source": [
    "Echanger les phases des images revient presque à échanger les images : on voit qu'en échangeant seulement la phase, on retrouve beaucoup de caractéristiques de l'image initiale. La phase semble donc contenir beaucoup d'informations concernant l'apparence de l'image, notamment au niveau des contours et des zones de fort contraste, tandis que le module seul ne contient que peu d'informations, comme on peut le voir ci-dessous.\n",
    "\n",
    "Ceci semble logique : l'amplitude de l'onde est une information quantitative, tandis que la phase est une information de structure de l'image."
   ],
   "metadata": {
    "collapsed": false
   }
  },
  {
   "cell_type": "code",
   "execution_count": null,
   "outputs": [],
   "source": [
    "lena_fft = np.fft.fftshift(np.fft.fft2(lena))\n",
    "lena_fft_mod = np.abs(lena_fft)\n",
    "lena_fft_phase = np.exp(np.angle(lena_fft) * 1j)\n",
    "\n",
    "_, ax = plt.subplots(1, 3, figsize=(18, 6))\n",
    "ax[0].imshow(lena, cmap='gray')\n",
    "ax[0].set_title('Original')\n",
    "ax[1].imshow(np.log(1 + np.abs(np.fft.ifft2(lena_fft_mod))), cmap='gray')  # log to visualize better\n",
    "ax[1].set_title('IFT of mod(FT)')\n",
    "ax[2].imshow(np.abs(np.fft.ifft2(lena_fft_phase)), cmap='gray')\n",
    "ax[2].set_title('IFT of phase(FT)')"
   ],
   "metadata": {
    "collapsed": false
   }
  },
  {
   "cell_type": "markdown",
   "source": [
    "Le module seul de la transformée de Fourier de l'image n'est donc absolument pas suffisant pour retrouver l'aspect de l'image initiale, contrairement à la phase."
   ],
   "metadata": {
    "collapsed": false
   }
  },
  {
   "cell_type": "markdown",
   "source": [
    "### Q2"
   ],
   "metadata": {
    "collapsed": false
   }
  },
  {
   "cell_type": "code",
   "execution_count": null,
   "outputs": [],
   "source": [
    "def randomize_phase(u):\n",
    "    \"\"\"\n",
    "    Return an image with randomized phase (only taking into account the periodic component of the image)\n",
    "    \"\"\"\n",
    "\n",
    "    u_periodic, _ = im.perdecomp(u)\n",
    "    u_randomized = im.randphase(u_periodic)\n",
    "\n",
    "    return u_randomized"
   ],
   "metadata": {
    "collapsed": false
   }
  },
  {
   "cell_type": "code",
   "execution_count": null,
   "outputs": [],
   "source": [
    "arcs = im.load('arcs.png').astype('double')[:, :, 0]\n",
    "triangles = (im.load('triangles.jpg').astype('double') / 255.0)[:, :, 0]\n",
    "aperiodic = im.load('aperiodic_12fold.png').astype('double')[:, :, 0]"
   ],
   "metadata": {
    "collapsed": false
   }
  },
  {
   "cell_type": "code",
   "execution_count": null,
   "outputs": [],
   "source": [
    "_, ax = plt.subplots(1, 3, figsize=(12, 4))\n",
    "ax[0].imshow(arcs, cmap='gray')\n",
    "ax[1].imshow(triangles, cmap='gray')\n",
    "ax[2].imshow(aperiodic, cmap='gray')"
   ],
   "metadata": {
    "collapsed": false
   }
  },
  {
   "cell_type": "code",
   "execution_count": null,
   "outputs": [],
   "source": [
    "lena_rd = randomize_phase(lena)\n",
    "arcs_rd = randomize_phase(arcs)\n",
    "triangles_rd = randomize_phase(triangles)\n",
    "aperiodic_rd = randomize_phase(aperiodic)"
   ],
   "metadata": {
    "collapsed": false
   }
  },
  {
   "cell_type": "code",
   "execution_count": null,
   "outputs": [],
   "source": [
    "fig = plt.figure(figsize=(16, 8))\n",
    "\n",
    "(subfig1, subfig2) = fig.subfigures(2, 1)\n",
    "ax1 = subfig1.subplots(1, 4)\n",
    "ax2 = subfig2.subplots(1, 4)\n",
    "\n",
    "subfig1.suptitle('Original images')\n",
    "ax1[0].imshow(lena, cmap='gray')\n",
    "ax1[1].imshow(arcs, cmap='gray')\n",
    "ax1[2].imshow(triangles, cmap='gray')\n",
    "ax1[3].imshow(aperiodic, cmap='gray')\n",
    "\n",
    "subfig2.suptitle('Randomized phase images')\n",
    "ax2[0].imshow(lena_rd, cmap='gray')\n",
    "ax2[1].imshow(arcs_rd, cmap='gray')\n",
    "ax2[2].imshow(triangles_rd, cmap='gray')\n",
    "ax2[3].imshow(aperiodic_rd, cmap='gray')"
   ],
   "metadata": {
    "collapsed": false
   }
  },
  {
   "cell_type": "code",
   "execution_count": null,
   "outputs": [],
   "source": [
    "aperiodic_p, aperiodic_s = im.perdecomp(aperiodic)\n",
    "lena_p, lena_s = im.perdecomp(lena)"
   ],
   "metadata": {
    "collapsed": false
   }
  },
  {
   "cell_type": "code",
   "execution_count": null,
   "outputs": [],
   "source": [
    "_, ax = plt.subplots(2, 3, figsize=(12, 8))\n",
    "ax[0][0].imshow(lena, cmap='gray')\n",
    "ax[0][1].imshow(lena_p, cmap='gray')\n",
    "ax[0][2].imshow(lena_s, cmap='gray')\n",
    "ax[1][0].imshow(aperiodic, cmap='gray')\n",
    "ax[1][1].imshow(aperiodic_p, cmap='gray')\n",
    "ax[1][2].imshow(aperiodic_s, cmap='gray')"
   ],
   "metadata": {
    "collapsed": false
   }
  },
  {
   "cell_type": "markdown",
   "source": [
    "La partie périodique de l'image 'aperiodic' semble égale à un facteur multiplicatif près à l'image originale, tandis que sa partie apériodique est justement presque nulle. Pourtant, cette image est un pavage de Penrose, c'est-à-dire qu'elle est \"pseudo-périodique\" au sens où des motifs réguliers apparaissent, mais elle n'est pas la répétition d'un motif élémentaire. La partie périodique d'une image est donc difficile à appréhender (d'autant plus que comme on peut le voir pour l'image 'lena', la partie périodique est également quasiment égale à l'image originale)\n",
    "\n",
    "Comme l'image 'lena', cette image est complètement détruite lorsqu'on rend sa phase aléatoire, ce qui indique qu'elle a bien des propriétés différentes des textures périodiques prises en exemple. Ainsi, les images qui conservent le mieux leur structure originale après que leur phase soit rendue aléatoire sont les textures strictement périodiques."
   ],
   "metadata": {
    "collapsed": false
   }
  },
  {
   "cell_type": "code",
   "execution_count": null,
   "outputs": [],
   "source": [
    "rand_smooth = im.randphase(lena_s)\n",
    "rand_p = im.randphase(lena_p)\n",
    "rand_full = im.randphase(lena)\n",
    "\n",
    "_, ax = plt.subplots(1, 3, figsize=(12, 4))\n",
    "ax[0].imshow(rand_smooth, cmap='gray')\n",
    "ax[1].imshow(rand_p, cmap='gray')\n",
    "ax[2].imshow(rand_full, cmap='gray')"
   ],
   "metadata": {
    "collapsed": false
   }
  },
  {
   "cell_type": "code",
   "execution_count": null,
   "outputs": [],
   "source": [
    "triangles_p, triangles_s = im.perdecomp(triangles)\n",
    "triangles_rand_p = im.randphase(triangles_p)\n",
    "triangles_rand_s = im.randphase(triangles_s)\n",
    "triangles_rand_full = im.randphase(triangles)\n",
    "\n",
    "_, ax = plt.subplots(1, 3, figsize=(12, 4))\n",
    "ax[0].imshow(triangles_rand_s, cmap='gray')\n",
    "ax[1].imshow(triangles_rand_p, cmap='gray')\n",
    "ax[2].imshow(triangles_rand_full, cmap='gray')"
   ],
   "metadata": {
    "collapsed": false
   }
  },
  {
   "cell_type": "markdown",
   "source": [
    "Utiliser la partie non-périodique donne des images différentes de textures à phase aléaoire, on observe en effet une texture très différente en utilisant cette partie. Le module et la phase de la transformée de Fourier de la partie non-périodique sont en effet très structurés. Cette structure doit donc se répercuter dans l'image à phase aléatoire obtenue."
   ],
   "metadata": {
    "collapsed": false
   }
  },
  {
   "cell_type": "code",
   "execution_count": null,
   "outputs": [],
   "source": [
    "lena_p_fft = np.fft.fftshift(np.fft.fft2(lena_p))\n",
    "lena_s_fft = np.fft.fftshift(np.fft.fft2(lena_s))\n",
    "\n",
    "fig = plt.figure(figsize=(8, 8))\n",
    "(subfig1, subfig2) = fig.subfigures(2, 1)\n",
    "ax1 = subfig1.subplots(1, 2)\n",
    "ax2 = subfig2.subplots(1, 2)\n",
    "\n",
    "subfig1.suptitle('lena (periodic) FT')\n",
    "ax1[0].imshow(np.log(1 + np.abs(lena_p_fft)), cmap='gray')\n",
    "ax1[1].imshow(np.angle(lena_p_fft), cmap='gray')\n",
    "\n",
    "subfig2.suptitle('lena (smooth) FT')\n",
    "ax2[0].imshow(np.log(1 + np.abs(lena_s_fft)), cmap='gray')\n",
    "ax2[1].imshow(np.angle(lena_s_fft), cmap='gray')"
   ],
   "metadata": {
    "collapsed": false
   }
  },
  {
   "cell_type": "markdown",
   "source": [
    "### Q3"
   ],
   "metadata": {
    "collapsed": false
   }
  },
  {
   "cell_type": "code",
   "execution_count": null,
   "outputs": [],
   "source": [
    "n = 512\n",
    "I = np.arange(-n/2, -n/2 + n - 1)\n",
    "X, Y = np.meshgrid(I, I)\n",
    "R = np.hypot(X, Y)\n",
    "u = 1. * (R < 10)\n",
    "\n",
    "_, ax = plt.subplots(1, 2, figsize=(8, 4))\n",
    "ax[0].imshow(u, cmap='gray')\n",
    "u_rand = im.randphase(u)\n",
    "ax[1].imshow(u_rand, cmap='gray')"
   ],
   "metadata": {
    "collapsed": false
   }
  },
  {
   "cell_type": "code",
   "execution_count": null,
   "outputs": [],
   "source": [
    "u_rand_fft = np.fft.fftshift(np.fft.fft2(u_rand))\n",
    "u_rand_m = np.abs(u_rand_fft)\n",
    "u_rand_phase = np.angle(u_rand_fft)\n",
    "\n",
    "_, ax = plt.subplots(1, 3, figsize=(15, 5))\n",
    "ax[0].imshow(u_rand, cmap='gray')\n",
    "ax[1].imshow(np.log(1 + u_rand_m), cmap='gray')\n",
    "ax[2].imshow(u_rand_phase, cmap='gray')"
   ],
   "metadata": {
    "collapsed": false
   }
  },
  {
   "cell_type": "code",
   "execution_count": null,
   "outputs": [],
   "source": [
    "texture = im.load('texture.pgm').astype('double')"
   ],
   "metadata": {
    "collapsed": false
   }
  },
  {
   "cell_type": "code",
   "execution_count": null,
   "outputs": [],
   "source": [
    "texture_fft = np.fft.fftshift(np.fft.fft2(texture))\n",
    "texture_m = np.abs(texture_fft)\n",
    "texture_phase = np.angle(texture_fft)\n",
    "\n",
    "_, ax = plt.subplots(1, 3, figsize=(15, 5))\n",
    "ax[0].imshow(texture, cmap='gray')\n",
    "ax[1].imshow(np.log(1 + texture_m), cmap='gray')\n",
    "ax[2].imshow(texture_phase, cmap='gray')"
   ],
   "metadata": {
    "collapsed": false
   }
  },
  {
   "cell_type": "code",
   "execution_count": null,
   "outputs": [],
   "source": [
    "def draw_ellipse(big_axis, small_axis, theta, center=(0, 0), resolution=1024):\n",
    "    \"\"\"\n",
    "    Draw an ellipse with specified parameters.\n",
    "    theta is the counter-clockwise angle in degrees.\n",
    "    \"\"\"\n",
    "    image = np.zeros(shape=(resolution, resolution))\n",
    "    image = cv2.ellipse(image, (image.shape[1]//2 + center[0], image.shape[0]//2 + center[1]),\n",
    "                        (big_axis, small_axis), -theta, 0, 360, 255, -1)\n",
    "    return image"
   ],
   "metadata": {
    "collapsed": false
   }
  },
  {
   "cell_type": "code",
   "execution_count": null,
   "outputs": [],
   "source": [
    "ellipse_1 = draw_ellipse(100, 50, 0)\n",
    "ellipse_2 = draw_ellipse(100, 50, 15)\n",
    "ellipse_3 = draw_ellipse(100, 50, 30)\n",
    "ellipse_4 = draw_ellipse(100, 50, 45)\n",
    "ellipse_5 = draw_ellipse(100, 50, 60)\n",
    "ellipse_6 = draw_ellipse(150, 50, 0)\n",
    "ellipse_7 = draw_ellipse(200, 50, 0)\n",
    "ellipse_8 = draw_ellipse(200, 100, 0)  # twice as big as ellipse_1"
   ],
   "metadata": {
    "collapsed": false
   }
  },
  {
   "cell_type": "code",
   "execution_count": null,
   "outputs": [],
   "source": [
    "ellipses = [\n",
    "    ellipse_1,\n",
    "    ellipse_2,\n",
    "    ellipse_3,\n",
    "    ellipse_4,\n",
    "    ellipse_5,\n",
    "    ellipse_6,\n",
    "    ellipse_7,\n",
    "    ellipse_8,\n",
    "]\n",
    "\n",
    "n_el = len(ellipses)\n",
    "_, ax = plt.subplots(n_el, 2, figsize=(2 * 4, 3 * n_el))\n",
    "\n",
    "for i, el in enumerate(ellipses):\n",
    "    ax[i][0].imshow(el, cmap='gray')\n",
    "    el_fft = np.fft.fftshift(np.fft.fft2(el))\n",
    "    ax[i][1].imshow(np.log(1 + np.abs(el_fft)[482:542, 482:542]), cmap='gray')"
   ],
   "metadata": {
    "collapsed": false
   }
  },
  {
   "cell_type": "code",
   "execution_count": null,
   "outputs": [],
   "source": [
    "im.View(np.log(1 + np.abs(np.fft.fftshift(np.fft.fft2(ellipse_2)))))"
   ],
   "metadata": {
    "collapsed": false
   }
  },
  {
   "cell_type": "markdown",
   "source": [
    "Les longueurs des axes de l'ellipse initiale et de celles visualisées pour le module de la transformée de Fourier semblent suivrent une dépendence en inverse : la longueur du grand axe de l'ellipse initiale est inversement proportionnelle à celle du *petit* axe de l'ellipse dans le domaine de Fourier, et de même pour le petit axe. Ceci est plus clair lorsqu'on visualise les ellipses 1, 7 et 8 :"
   ],
   "metadata": {
    "collapsed": false
   }
  },
  {
   "cell_type": "code",
   "execution_count": null,
   "outputs": [],
   "source": [
    "el_178 = [\n",
    "    ellipse_1,\n",
    "    ellipse_7,\n",
    "    ellipse_8,\n",
    "]\n",
    "\n",
    "n_el = len(el_178)\n",
    "_, ax = plt.subplots(n_el, 2, figsize=(2 * 4, 3 * n_el))\n",
    "\n",
    "for i, el in enumerate(el_178):\n",
    "    ax[i][0].imshow(el, cmap='gray')\n",
    "    el_fft = np.fft.fftshift(np.fft.fft2(el))\n",
    "    ax[i][1].imshow(np.log(1 + np.abs(el_fft)[482:542, 482:542]), cmap='gray')"
   ],
   "metadata": {
    "collapsed": false
   }
  },
  {
   "cell_type": "code",
   "execution_count": null,
   "outputs": [],
   "source": [
    "im.View(np.log(1 + np.abs(np.fft.fftshift(np.fft.fft2(ellipse_3)))))"
   ],
   "metadata": {
    "collapsed": false
   }
  },
  {
   "cell_type": "markdown",
   "source": [
    "On voit bien que l'ellipse obtenue dans le domaine du Fourier est deux fois plus petite pour l'ellipse 8 que l'ellipse 1, et l'ellipse 8 est deux fois plus grande. Les tailles exactes des axes sont :\n",
    "\n",
    "* Ellipse 1 :\n",
    "* * Image : grand-axe = 100px, petit-axe = 50px\n",
    "* * Fourier : grand-axe = 24px, petit-axe = 12px (N.B. : valeurs pour la plus petite ellipse, au centre du domaine)\n",
    "* Ellipse 7 :\n",
    "* * Image : grand-axe = 200px, petit-axe = 50px\n",
    "* * Fourier : grand-axe = 24px, petit-axe = 6px\n",
    "* Ellipse 8 :\n",
    "* * Image : grand-axe = 200px, petit-axe = 100px\n",
    "* * Fourier : grand-axe = 12px, petit-axe = 6px\n",
    "\n",
    "Le ratio $\\dfrac{\\text{grand-axe}}{\\text{petit-axe}}$ est donc préservé entre l'image réelle et le domaine de Fourier (on peut s'en assurer en prenant des mesures sur de multiples ellipses dans le domaine de Fourier), de plus la dépendence est bien inversement linéaire entre les deux domaines.\n",
    "On a donc, en notant $a$ et $b$ les grand et petit-axes de l'ellipse initiale, et $\\hat{a}$, $\\hat{b}$ les grand et petit-axes de l'ellipse dans le domaine de Fourier, pour une résolution de $1024\\times 1024$ :\n",
    "\\begin{equation*}\n",
    "\\begin{split}\n",
    "\\frac{a}{1024}\\cdot \\frac{\\hat{b}}{1024} & = 1.144 \\, 10^{-3} = C\\\\\n",
    "\\frac{b}{1024\\cdot \\frac{\\hat{a}}{1024} & = C\n",
    "\\end{split}\n",
    "\\end{equation*}\n",
    "\n",
    "(On divise par la résolution pour exprimer les longueurs en proportion de la taille d'un pixel)\n",
    "\n",
    "Pour ce qui est de l'orientation de l'ellipse dans le domaine de Fourier, elle semble simplement être tournée de 90° dans le sens trigonométrique. On peut vérifier ceci à l'aide des ellipses 1, 2 et 3 :\n",
    "\n",
    "* Ellipse 1 :\n",
    "* * Image : $\\theta_I = 0 \\text{ rad}$  (N.B. angle entre le demi-grand axe et l'axe $x$ (sens positif), sens trigonométrique)\n",
    "* * Fourier : $\\theta_F = \\frac{\\pi}{2} \\text{ rad} = \\theta_I + \\frac{\\pi}{2} \\text{ rad}$\n",
    "* Ellipse 2 :\n",
    "* * Image : $\\theta_I = 15° = \\frac{\\pi}{12} \\text{ rad}$\n",
    "* * Fourier : $\\theta_F = 108° \\approx \\theta_I + \\frac{\\pi}{2} \\text{ rad}$\n",
    "* Ellipse 3 :\n",
    "* * Image : $\\theta_I = 30° = \\frac{\\pi}{6} \\text{ rad}$\n",
    "* * Fourier : $\\theta_F = 122° \\approx \\theta_I + \\frac{\\pi}{2} \\text{ rad}$\n",
    "\n",
    "Cette règle semble donc vérifiée à 2 ou 3 degrés près. En appliquant ceci à l'image obtenue en visualisant le module de la transformée de Fourier de la texture, on obtient :\n",
    "* Grand axe : 22.02px\n",
    "* Petit axe : 15.62px\n",
    "* $\\theta_F = 125.34°$\n",
    "\n",
    "On estime donc que l'ellipse initiale a les caractéristiques suivantes :\n",
    "* Petit axe : $\\frac{500^2C}{22.02} = 13\\text{px}$\n",
    "* Grand axe : $\\frac{500^2C}{15.62} = 18\\text{px}$\n",
    "* $\\theta_I = 35.34°$"
   ],
   "metadata": {
    "collapsed": false
   }
  },
  {
   "cell_type": "code",
   "execution_count": null,
   "outputs": [],
   "source": [
    "unknown_ellipse = draw_ellipse(18, 13, 35.34, resolution=500)"
   ],
   "metadata": {
    "collapsed": false
   }
  },
  {
   "cell_type": "code",
   "execution_count": null,
   "outputs": [],
   "source": [
    "_, ax = plt.subplots(1, 3, figsize=(12, 4))\n",
    "ax[0].imshow(unknown_ellipse, cmap='gray')\n",
    "ax[0].set_title('Ellipse originale estimée')\n",
    "ax[1].imshow(np.log(1 + np.abs(np.fft.fftshift(np.fft.fft2(unknown_ellipse)))), cmap='gray')\n",
    "ax[1].set_title('FT de l\\'ellipse estimée')\n",
    "ax[2].imshow(np.log(1 + texture_m), cmap='gray')\n",
    "ax[2].set_title('FT de l\\'ellipse originale')"
   ],
   "metadata": {
    "collapsed": false
   }
  },
  {
   "cell_type": "code",
   "execution_count": null,
   "outputs": [],
   "source": [
    "im.View(np.log(1 + np.abs(np.fft.fftshift(np.fft.fft2(unknown_ellipse)))))"
   ],
   "metadata": {
    "collapsed": false
   }
  },
  {
   "cell_type": "markdown",
   "source": [
    "L'orientation semble correcte à quelques degrés près, ainsi que le rapport des longueurs des axes, mais pas les longueurs des axes elles-mêmes : la longueur du grand axe de l'ellipse formée sur la transformée de Fourier de l'ellipse estimée est trop grande, d'un facteur 1.45. Appliquons ce facteur à l'ellipse originale estimée"
   ],
   "metadata": {
    "collapsed": false
   }
  },
  {
   "cell_type": "code",
   "execution_count": null,
   "outputs": [],
   "source": [
    "unknown_ellipse_corr = draw_ellipse(round(1.45 * 18, ndigits=None), round(13 * 1.45, ndigits=None), 35.34, resolution=500)\n",
    "_, ax = plt.subplots(1, 3, figsize=(12, 4))\n",
    "ax[0].imshow(unknown_ellipse_corr, cmap='gray')\n",
    "ax[0].set_title('Ellipse originale estimée')\n",
    "ax[1].imshow(np.log(1 + np.abs(np.fft.fftshift(np.fft.fft2(unknown_ellipse_corr)))), cmap='gray')\n",
    "ax[1].set_title('FT de l\\'ellipse estimée')\n",
    "ax[2].imshow(np.log(1 + texture_m), cmap='gray')\n",
    "ax[2].set_title('FT de l\\'ellipse originale')"
   ],
   "metadata": {
    "collapsed": false
   }
  },
  {
   "cell_type": "markdown",
   "source": [
    "On se rapporche de l'ellipse originale, mais on a encore une erreur visible d'orientation et de longueurs d'axes. Le modèle appliqué ici n'est donc pas complet, ou il y a peut-être un rôle important de la résolution non pris en compte dans les estimations faites ici."
   ],
   "metadata": {
    "collapsed": false
   }
  },
  {
   "cell_type": "code",
   "execution_count": null,
   "outputs": [],
   "source": [],
   "metadata": {
    "collapsed": false
   }
  }
 ],
 "metadata": {
  "kernelspec": {
   "display_name": "Python 3",
   "language": "python",
   "name": "python3"
  },
  "language_info": {
   "codemirror_mode": {
    "name": "ipython",
    "version": 2
   },
   "file_extension": ".py",
   "mimetype": "text/x-python",
   "name": "python",
   "nbconvert_exporter": "python",
   "pygments_lexer": "ipython2",
   "version": "2.7.6"
  }
 },
 "nbformat": 4,
 "nbformat_minor": 0
}
