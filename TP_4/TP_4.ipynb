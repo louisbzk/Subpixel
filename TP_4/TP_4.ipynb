{
 "cells": [
  {
   "cell_type": "markdown",
   "source": [
    "# Exercice 11\n",
    "\n",
    "### Q1\n",
    "Analysons le code de la fonction `perdecomp`"
   ],
   "metadata": {
    "collapsed": false
   }
  },
  {
   "cell_type": "code",
   "execution_count": null,
   "metadata": {
    "collapsed": true
   },
   "outputs": [],
   "source": [
    "import numpy as np\n",
    "import imtools as im\n",
    "import matplotlib.pyplot as plt"
   ]
  },
  {
   "cell_type": "code",
   "execution_count": null,
   "outputs": [],
   "source": [
    "# Image de niveaux de gris aléatoires, de taille 500 x 400\n",
    "u = np.random.randint(low=0, high=256, size=(500, 400), dtype=int)"
   ],
   "metadata": {
    "collapsed": false
   }
  },
  {
   "cell_type": "code",
   "execution_count": null,
   "outputs": [],
   "source": [
    "# On récupère la taille de l'image dans les 2 dimensions\n",
    "# ny, nx = 500, 400 ici\n",
    "ny, nx = u.shape\n",
    "u = u.astype('double')  # On convertit l'image entière en flottants\n",
    "X = np.arange(nx)  # X = [0, 1, ..., nx - 1]\n",
    "Y = np.arange(ny)  # Y = [0, 1, ..., ny - 1]\n",
    "v = np.zeros((ny, nx))  # v est une image nulle de la même taille que u\n",
    "\n",
    "# On calcule la différence des valeurs de u(x,y)\n",
    "# avec les voisins extérieurs de u(x,y)\n",
    "\n",
    "# La ligne supérieure de v est la différence entre\n",
    "# la ligne supérieure de u - ligne inférieure de u\n",
    "v[0, X] = u[0, X] - u[-1, X]\n",
    "v[-1,X] = -v[0,X]  # ligne inférieure de v = opposé de sa ligne supérieure\n",
    "\n",
    "# On effectue les mêmes opérations sur les colonnes gauche et droite\n",
    "# de v, en prenant soin de ne pas écraser les valeurs aux coins\n",
    "v[Y, 0] = v[Y, 0] + u[Y, 0] - u[Y, -1]\n",
    "v[Y,-1] = v[Y,-1] - u[Y,0] + u[Y,-1]\n",
    "\n",
    "# fx est la matrice M_ij = (cos(2pi i/nx))\n",
    "# pour i = 0, ..., nx-1 et j = 0, ..., ny-1\n",
    "# => toutes les lignes de fx sont identiques\n",
    "fx = np.tile(np.cos(2.*np.pi*X/nx), (ny,1))\n",
    "\n",
    "# fy est la matrice M_ij = (cos(2pi j/ny))\n",
    "# pour i = 0, ..., nx-1 et j = 0, ..., ny-1\n",
    "# => toutes les colonnes de j sont identiques\n",
    "fy = np.tile(np.cos(2.*np.pi*Y/ny), (nx,1)).T\n",
    "fx[0,0] = 0 # avoid division by 0 in the line below"
   ],
   "metadata": {
    "collapsed": false
   }
  },
  {
   "cell_type": "markdown",
   "source": [
    "Pour expliquer les lignes suivantes, considérons les objets entrant en jeu :\n",
    "\n",
    "* l'image $v$ est une image nulle, sauf sur les bords, sur laquelle elle prend les valeurs de $u$, moins les valeurs des voisins extérieurs de ces points de $u$. Ceci correspond au laplacien extérieur de $u$, défini comme\n",
    "\\begin{equation*}\n",
    "\\begin{split}\n",
    "v(x, y) = \\Delta_{ext}(u)(x, y) &= 0 \\text{ si } x \\notin \\{0, N_x - 1\\} \\text{ et } y \\notin \\{0, N_y - 1\\}\\\\\n",
    "&= u(x, y) - u(N_x - 1 - x, y) \\text{ si } x \\in \\{0, N_x - 1\\} \\text{ et } y \\notin \\{0, N_y - 1\\}\\\\\n",
    "&= u(x, y) - u(x, N_y - 1 - y) \\text{ si } y \\in \\{0, N_y - 1\\} \\text{ et } x \\notin \\{0, N_x - 1\\}\\\\\n",
    "&= 2u(x, y) - u(N_x - 1 - x, y) - u(x, N_y - 1 - y) \\text{ si } y \\in \\{0, N_y - 1\\} \\text{ et } x \\in \\{0, N_x - 1\\}\n",
    "\\end{split}\n",
    "\\end{equation*}\n",
    "* D'après le théorème de décomposition periodic-smooth, cette image $v$ est égale au produit de convolution d'un noyau $\\varphi$ avec la partie \"smooth\" de l'image $u$, notée $s$, ce qui donne en prenant la transformée de Fourier :\n",
    "$$\\Delta_{ext}(u) = \\varphi * s \\implies \\hat{\\Delta_{ext}(u)} = \\hat{\\varphi} \\cdot \\hat{s}$$\n",
    "* Or, on a $\\hat{\\varphi}(x, y) = 4 - 2\\text{cos}\\left(\\frac{2\\pi x}{N_x}\\right) - 2\\text{cos}\\left(\\frac{2\\pi y}{N_y}\\right)$\n",
    "* Par conséquent, la ligne `s = np.real(np.fft.ifft2(np.fft.fft2(v)*0.5/(2.-fx-fy)))` :\n",
    "* * Calcule $\\hat{v}$ la transformée de Fourier de `v` : `np.fft.fft2(v)`\n",
    "* * Divise $\\hat{v}$ par $\\frac{1}{2} \\frac{1}{2 - \\left(\\text{cos}\\left(\\frac{2\\pi x}{N_x}\\right) + \\text{cos}\\left(\\frac{2\\pi y}{N_y}\\right)\\right)}$, i.e. on calcule $\\hat{s} = \\frac{\\hat{\\Delta_{ext}(u)}}{\\hat{\\varphi}}$\n",
    "* * On prend ensuite la partie réelle de la transformée de Fourier inverse de $\\hat{v}$ pour obtenir la partie \"smooth\" de l'image $u$, et on extrait ainsi les composantes périodiques et smooth de $u$ dans les images `p` et `s`"
   ],
   "metadata": {
    "collapsed": false
   }
  },
  {
   "cell_type": "code",
   "execution_count": null,
   "outputs": [],
   "source": [
    "s = np.real(np.fft.ifft2(np.fft.fft2(v)*0.5/(2.-fx-fy)))\n",
    "p = u-s"
   ],
   "metadata": {
    "collapsed": false
   }
  },
  {
   "cell_type": "code",
   "execution_count": null,
   "outputs": [],
   "source": [
    "def show_psdecomp(img, p=None, s=None):\n",
    "    if p is None:\n",
    "        p, s = im.perdecomp(img)\n",
    "\n",
    "    _, ax = plt.subplots(1, 3, figsize=(12, 4))\n",
    "    ax[0].imshow(img, cmap='gray')\n",
    "    ax[0].set_title('Image de départ')\n",
    "    ax[1].imshow(p, cmap='gray')\n",
    "    ax[1].set_title('Partie périodique')\n",
    "    ax[2].imshow(s, cmap='gray')\n",
    "    ax[2].set_title('Partie smooth')"
   ],
   "metadata": {
    "collapsed": false
   }
  },
  {
   "cell_type": "code",
   "execution_count": null,
   "outputs": [],
   "source": [
    "show_psdecomp(u, p, s)"
   ],
   "metadata": {
    "collapsed": false
   }
  },
  {
   "cell_type": "markdown",
   "source": [
    "### Q2"
   ],
   "metadata": {
    "collapsed": false
   }
  },
  {
   "cell_type": "code",
   "execution_count": null,
   "outputs": [],
   "source": [
    "# Check u == p+s\n",
    "print(f'u and p+s are strictly equal : {np.array_equal(u, p+s)}')\n",
    "print(f'Max difference between u and p+s : {np.max(np.abs(u - (p+s)))}')"
   ],
   "metadata": {
    "collapsed": false
   }
  },
  {
   "cell_type": "markdown",
   "source": [
    "On peut conclure que sur cet exemple, $u$ et $p + s$ sont strictement égales à une erreur de précision numérique près, bien que théoriquement, nous nous attendions à une différence de l'ordre de $10^{-16}$ en précision double. Essayons avec des images plus régulières qu'un simple bruit"
   ],
   "metadata": {
    "collapsed": false
   }
  },
  {
   "cell_type": "code",
   "execution_count": null,
   "outputs": [],
   "source": [
    "lena = im.load('lena.pgm').astype('double')\n",
    "lena_p, lena_s = im.perdecomp(lena)"
   ],
   "metadata": {
    "collapsed": false
   }
  },
  {
   "cell_type": "code",
   "execution_count": null,
   "outputs": [],
   "source": [
    "show_psdecomp(lena, lena_p, lena_s)"
   ],
   "metadata": {
    "collapsed": false
   }
  },
  {
   "cell_type": "code",
   "execution_count": null,
   "outputs": [],
   "source": [
    "print(f'lena and lena_p + lena_s are strictly equal : {np.array_equal(lena, lena_p + lena_s)}')\n",
    "print(f'Max difference between lena and lena_p + lena_s : {np.max(np.abs(lena - (lena_p + lena_s)))}')"
   ],
   "metadata": {
    "collapsed": false
   }
  },
  {
   "cell_type": "markdown",
   "source": [
    "Il semble y avoir une erreur systématique mais très faible dans cette décomposition, puisqu'on obtient exactement la même différence entre les deux images. Essayons de localiser cette différence"
   ],
   "metadata": {
    "collapsed": false
   }
  },
  {
   "cell_type": "code",
   "execution_count": null,
   "outputs": [],
   "source": [
    "_, ax = plt.subplots(1, 2, figsize=(8, 4))\n",
    "ax[0].imshow(np.abs(lena - (lena_p + lena_s)), cmap='gray')\n",
    "ax[0].set_title('abs(lena - (lena_p + lena_s))')\n",
    "ax[1].imshow(np.abs(u - (p + s)), cmap='gray')\n",
    "ax[1].set_title('abs(u - (p + s))')"
   ],
   "metadata": {
    "collapsed": false
   }
  },
  {
   "cell_type": "code",
   "execution_count": null,
   "outputs": [],
   "source": [
    "im.View(np.hstack((lena, lena_p)))"
   ],
   "metadata": {
    "collapsed": false
   }
  },
  {
   "cell_type": "markdown",
   "source": [
    "Il est difficile de voir sur la figure ci-dessus les pixels non-nuls, mais on voit que leur localisation n'est pas identique pour les deux images et qu'ils dépendent des structures respectives de chaque image. L'erreur commise est donc certainement due à une propagation d'erreur de précision numérique, ou d'une approximation faite par l'algorithme FFT."
   ],
   "metadata": {
    "collapsed": false
   }
  },
  {
   "cell_type": "code",
   "execution_count": null,
   "outputs": [],
   "source": [
    "_, ax = plt.subplots(1, 3, figsize=(15, 5))\n",
    "ax[0].imshow(np.tile(lena, (2, 2)), cmap='gray')\n",
    "ax[0].set_title('Image originale')\n",
    "ax[1].imshow(np.tile(lena_p, (2, 2)), cmap='gray')\n",
    "ax[1].set_title('Partie périodique')\n",
    "ax[2].imshow(np.tile(lena_s, (2, 2)), cmap='gray')\n",
    "ax[2].set_title('Partie smooth')"
   ],
   "metadata": {
    "collapsed": false
   }
  },
  {
   "cell_type": "markdown",
   "source": [
    "La partie périodique de l'image n'a plus de discontinuités aux bords de l'image lorsque celle-ci est périodisée car on a isolé ces discontinuités dans la partie smooth, ce qui permet de résoudre les artefacts liés aux discontinuités dans le domaine de Fourier. On peut visualiser ces artefacts dans le domaine de Fourier"
   ],
   "metadata": {
    "collapsed": false
   }
  },
  {
   "cell_type": "code",
   "execution_count": null,
   "outputs": [],
   "source": [
    "lena_fft = np.fft.fftshift(np.fft.fft2(lena))\n",
    "lena_p_fft = np.fft.fftshift(np.fft.fft2(lena_p))\n",
    "lena_s_fft = np.fft.fftshift(np.fft.fft2(lena_s))"
   ],
   "metadata": {
    "collapsed": false
   }
  },
  {
   "cell_type": "code",
   "execution_count": null,
   "outputs": [],
   "source": [
    "_, ax = plt.subplots(2, 3, figsize=(12, 8))\n",
    "ax[0][0].imshow(np.log(1 + np.abs(lena_fft)), cmap='gray')\n",
    "ax[1][0].imshow(np.angle(lena_fft), cmap='gray')\n",
    "ax[0][0].set_title('Image originale')\n",
    "\n",
    "ax[0][1].imshow(np.log(1 + np.abs(lena_p_fft)), cmap='gray')\n",
    "ax[1][1].imshow(np.angle(lena_p_fft), cmap='gray')\n",
    "ax[0][1].set_title('Partie périodique')\n",
    "\n",
    "ax[0][2].imshow(np.log(1 + np.abs(lena_s_fft)), cmap='gray')\n",
    "ax[1][2].imshow(np.angle(lena_s_fft), cmap='gray')\n",
    "ax[0][2].set_title('Partie smooth')"
   ],
   "metadata": {
    "collapsed": false
   }
  },
  {
   "cell_type": "markdown",
   "source": [
    "La partie smooth de l'image a donc absorbé tous les artefacts, en isolant les discontinuités à ses bords. Ainsi, on peut calculer une transformée de Fourier correcte après avoir périodisé l'image. On peut comparer ces résultats avec l'image symétrisée"
   ],
   "metadata": {
    "collapsed": false
   }
  },
  {
   "cell_type": "code",
   "execution_count": null,
   "outputs": [],
   "source": [
    "lena_sym = im.fsym2(lena)"
   ],
   "metadata": {
    "collapsed": false
   }
  },
  {
   "cell_type": "code",
   "execution_count": null,
   "outputs": [],
   "source": [
    "plt.imshow(lena_sym, cmap='gray')"
   ],
   "metadata": {
    "collapsed": false
   }
  },
  {
   "cell_type": "code",
   "execution_count": null,
   "outputs": [],
   "source": [
    "lena_sym_fft = np.fft.fftshift(np.fft.fft2(lena_sym))\n",
    "_, ax = plt.subplots(1, 2, figsize=(10, 5))\n",
    "ax[0].imshow(np.log(1 + np.abs(lena_sym_fft)), cmap='gray')\n",
    "ax[1].imshow(np.angle(lena_sym_fft), cmap='gray')"
   ],
   "metadata": {
    "collapsed": false
   }
  },
  {
   "cell_type": "markdown",
   "source": [
    "Bien que la symétrisation élimine des artefacts sur le module de la transformée de Fourier, ce n'est pas le cas de la phase. De plus, dans le cas d'une onde pure, impossible de retrouver l'onde originelle à partir de la transformée de Fourier de la symétrisée"
   ],
   "metadata": {
    "collapsed": false
   }
  },
  {
   "cell_type": "code",
   "execution_count": null,
   "outputs": [],
   "source": [
    "onde_fft = np.zeros(shape=(512, 512), dtype=float)\n",
    "onde_fft[20, 20] = 1000\n",
    "onde = np.real(np.fft.ifft2(onde_fft))\n",
    "onde_sym = im.fsym2(onde)\n",
    "onde_sym_fft = np.fft.fft2(onde_sym)"
   ],
   "metadata": {
    "collapsed": false
   }
  },
  {
   "cell_type": "code",
   "execution_count": null,
   "outputs": [],
   "source": [
    "_, ax = plt.subplots(1, 4, figsize=(16, 4))\n",
    "ax[0].imshow(onde, cmap='gray')\n",
    "ax[0].set_title('Originale')\n",
    "ax[1].imshow(onde_sym, cmap='gray')\n",
    "ax[1].set_title('Symétrisée')\n",
    "ax[2].imshow(np.log(1 + np.abs(onde_sym_fft)), cmap='gray')\n",
    "ax[2].set_title('mod(F(Symétrisée))')\n",
    "ax[3].imshow(np.angle(onde_sym_fft), cmap='gray')\n",
    "ax[3].set_title('phase(F(Symétrisée))')"
   ],
   "metadata": {
    "collapsed": false
   }
  },
  {
   "cell_type": "markdown",
   "source": [
    "Comme on peut le voir sur le module de la transformée de Fourier de la symétrisée de l'onde pure, il est impossible d'identifier le vecteur d'onde correct parmi les 4 pics d'intensité."
   ],
   "metadata": {
    "collapsed": false
   }
  },
  {
   "cell_type": "markdown",
   "source": [
    "## Exercice 12\n",
    "\n",
    "### Q1, Q2\n",
    "Les propriétés $(i)$ et $(ii)$ découlent de la définition de $s$ et de l'égalité $\\Delta s = \\Delta_{\\text{ext}} u$.\n",
    "\n",
    "### Q3\n",
    "\n",
    "Dans la preuve, on a montré :\n",
    "\n",
    "$$s = \\left(Q_1 + Q_2\\right)^{-1} Q_1 \\, u$$\n",
    "\n",
    "où $Q_1 \\in S^n_{+}$ et $Q_2 \\in S^n_{++}$.\n",
    "\n",
    "On a :\n",
    "\n",
    "\\begin{equation*}\n",
    "\\begin{split}\n",
    "    p &= u - s\\\\\n",
    "      &= u - \\left(Q_1 + Q_2\\right)^{-1} Q_1 \\, u\\\\\n",
    "      &= (I - \\left(Q_1 + Q_2\\right)^{-1} Q_1) \\, u\\\\\n",
    "      &= (\\left(Q_1 + Q_2\\right)^{-1} \\left(Q_1 + Q_2\\right) - \\left(Q_1 + Q_2\\right)^{-1} Q_1) \\, u\\\\\n",
    "      &= \\left(Q_1 + Q_2\\right)^{-1} Q_2 \\, u\n",
    "\\end{split}\n",
    "\\end{equation*}\n",
    "\n",
    "Or, $\\left(Q_1 + Q_2\\right)^{-1} Q_2$ est inversible, $u \\mapsto \\text{per}(u)$ est donc une bijection linéaire.\n",
    "\n",
    "### Q4\n",
    "\n",
    "Soit $\\lambda$ une valeur propre de $\\text{per}$, et $u_\\lambda$ un vecteur propre associé (non nul).\n",
    "\n",
    "On a :\n",
    "\n",
    "\\begin{equation*}\n",
    "\\begin{split}\n",
    "    \\text{per}(u_\\lambda) = \\lambda u_\\lambda &= \\left(Q_1 + Q_2\\right)^{-1} Q_2 \\, u_\\lambda\\\\\n",
    "    \\iff \\left(Q_1 + Q_2\\right) \\lambda u_\\lambda &= Q_2 u_\\lambda\\\\\n",
    "    \\iff \\lambda \\left( u_\\lambda^* \\left(Q_1 + Q_2\\right) u_\\lambda \\right) &= u_\\lambda^* Q_2 u_\\lambda\\\\\n",
    "    \\iff \\lambda &= \\frac{u_\\lambda^* Q_2 u_\\lambda}{u_\\lambda^* \\left(Q_1 + Q_2\\right) u_\\lambda}\n",
    "\\end{split}\n",
    "\\end{equation*}\n",
    "\n",
    "Le numérateur est strictement positif puisque $Q_2 \\in S^n_{++}$, et le dénominateur est supérieur au numérateur puisque $Q_1 \\in S^n_+$, d'où $\\lambda \\in ]0, 1]$\n",
    "\n",
    "### Q5\n",
    "\n",
    "Considérons $u \\in \\mathcal{P}$. Alors, on a $\\Delta_{\\text{ext}} u = 0 = \\Delta s$. Or :\n",
    "\n",
    "\\begin{equation*}\n",
    "\\begin{split}\n",
    "    \\Delta s = 0 & \\iff \\varphi \\ast s = 0\\\\\n",
    "                 & \\iff \\hat{\\varphi} \\cdot \\hat{s} = 0\\\\\n",
    "                 & \\iff \\hat{s} = 0\\\\\n",
    "                 & \\iff s = 0\\\\\n",
    "                 & \\iff u = \\text{per}(u)\n",
    "\\end{split}\n",
    "\\end{equation*}\n",
    "\n",
    "Les points fixes de $\\text{per}$ sont donc exactement les éléments de $\\mathcal{P}$.\n",
    "\n",
    "### Q6\n",
    "\n",
    "Il existe une matrice $P$ inversible telle que $P^T \\left( Q_1 + Q_2 \\right) P = I$ et $P^T Q_2 P = D$ avec $D$ diagonale\n",
    "\n",
    "On note $M$ la matrice de $\\text{per}$ dans la base canonique. On a alors :\n",
    "\n",
    "\\begin{equation*}\n",
    "\\begin{split}\n",
    "    \\left( Q_1 + Q_2 \\right)^{-1} Q_2 &= A\\\\\n",
    "    \\iff Q_2 &= \\left( Q_1 + Q_2 \\right) A\n",
    "\\end{split}\n",
    "\\end{equation*}\n",
    "\n",
    "Donc :\n",
    "\\begin{equation*}\n",
    "\\begin{split}\n",
    "    P^{-1} A P &= P^T \\left( Q_1 + Q_2 \\right) P P^{-1} A P\\\\\n",
    "    &= P^T \\left( \\left( Q_1 + Q_2 \\right)A \\right) P\\\\\n",
    "    &= P^T Q_2 P\\\\\n",
    "    &= D\n",
    "\\end{split}\n",
    "\\end{equation*}\n",
    "\n",
    "$\\text{per}$ est donc diagonalisable."
   ],
   "metadata": {
    "collapsed": false
   }
  },
  {
   "cell_type": "markdown",
   "source": [
    "\n",
    "# Exercice 14\n",
    "### Q1"
   ],
   "metadata": {
    "collapsed": false
   }
  },
  {
   "cell_type": "code",
   "execution_count": null,
   "outputs": [],
   "source": [
    "u = im.load('lena.pgm').astype('double')\n",
    "x0 = (u.shape[1] + 1) / 2\n",
    "y0 = (u.shape[0] + 1) / 2 # centre de l’image\n",
    "theta = np.pi / 6\n",
    "u1 = im.fftshear(u, -np.tan(theta / 2), y0, axis=1)\n",
    "u2 = im.fftshear(u1, np.sin(theta), x0, axis=0)\n",
    "u3 = im.fftshear(u2, -np.tan(theta / 2), y0, axis=1)"
   ],
   "metadata": {
    "collapsed": false
   }
  },
  {
   "cell_type": "code",
   "execution_count": null,
   "outputs": [],
   "source": [
    "_, ax = plt.subplots(1, 4, figsize=(16, 4))\n",
    "ax[0].imshow(u, cmap='gray')\n",
    "ax[1].imshow(u1, cmap='gray')\n",
    "ax[2].imshow(u2, cmap='gray')\n",
    "ax[3].imshow(u3, cmap='gray')"
   ],
   "metadata": {
    "collapsed": false
   }
  },
  {
   "cell_type": "code",
   "execution_count": null,
   "outputs": [],
   "source": [
    "d = np.linspace(-1,1,500)\n",
    "X,Y = np.meshgrid(d, d)\n",
    "d = X+Y\n",
    "x0 = (d.shape[1] + 1) / 2\n",
    "y0 = (d.shape[0] + 1) / 2 # centre de l’image\n",
    "d1 = im.fftshear(d, -np.tan(theta / 2), y0, axis=1)\n",
    "d2 = im.fftshear(d1, np.sin(theta), x0, axis=0)\n",
    "d3 = im.fftshear(d2, -np.tan(theta / 2), y0, axis=1)"
   ],
   "metadata": {
    "collapsed": false
   }
  },
  {
   "cell_type": "code",
   "execution_count": null,
   "outputs": [],
   "source": [
    "_, ax = plt.subplots(1, 4, figsize=(16, 4))\n",
    "ax[0].imshow(d, cmap='gray')\n",
    "ax[1].imshow(d1, cmap='gray')\n",
    "ax[2].imshow(d2, cmap='gray')\n",
    "ax[3].imshow(d3, cmap='gray')"
   ],
   "metadata": {
    "collapsed": false
   }
  },
  {
   "cell_type": "markdown",
   "source": [
    "Le schéma ci-dessous illustre comment les artefacts observés sont obtenus par glissements successifs :"
   ],
   "metadata": {
    "collapsed": false
   }
  },
  {
   "cell_type": "code",
   "execution_count": null,
   "outputs": [],
   "source": [
    "from IPython.display import Image\n",
    "Image(\"schema_shear.jpg\")"
   ],
   "metadata": {
    "collapsed": false
   }
  },
  {
   "cell_type": "code",
   "execution_count": null,
   "outputs": [],
   "source": [
    "# Try now with an angle > pi/2\n",
    "theta = 5 * np.pi / 6\n",
    "d1 = im.fftshear(d, -np.tan(theta / 2), y0, axis=1)\n",
    "d2 = im.fftshear(d1, np.sin(theta), x0, axis=0)\n",
    "d3 = im.fftshear(d2, -np.tan(theta / 2), y0, axis=1)"
   ],
   "metadata": {
    "collapsed": false
   }
  },
  {
   "cell_type": "code",
   "execution_count": null,
   "outputs": [],
   "source": [
    "_, ax = plt.subplots(1, 4, figsize=(16, 4))\n",
    "ax[0].imshow(d, cmap='gray')\n",
    "ax[1].imshow(d1, cmap='gray')\n",
    "ax[2].imshow(d2, cmap='gray')\n",
    "ax[3].imshow(d3, cmap='gray')"
   ],
   "metadata": {
    "collapsed": false
   }
  },
  {
   "cell_type": "markdown",
   "source": [
    "On observe une périodisation importante de l'image, ce qui est logique pour un angle important, plus précisément pour\n",
    "$$\\theta \\geq 2\\bar{\\theta} = 2\\text{ arctan}\\left(\\frac{2X}{Y}\\right)$$\n",
    "où $X$ et $Y$ sont la largeur et la hauteur de l'image : $\\bar{\\theta}$ représente l'angle où un glissement horizontal $G_{-\\text{tan}(\\bar{\\theta})}$ produit une translation d'exactement une ligne aux extrémités de l'image, comme illustré ci-dessous."
   ],
   "metadata": {
    "collapsed": false
   }
  },
  {
   "cell_type": "code",
   "execution_count": null,
   "outputs": [],
   "source": [
    "theta_bar = 2 * np.arctan(2 * len(d.T) / len(d))\n",
    "theta = theta_bar\n",
    "\n",
    "d1 = im.fftshear(d, -np.tan(theta / 2), y0, axis=1)\n",
    "d2 = im.fftshear(d1, np.sin(theta), x0, axis=0)\n",
    "d3 = im.fftshear(d2, -np.tan(theta / 2), y0, axis=1)\n",
    "\n",
    "_, ax = plt.subplots(1, 4, figsize=(16, 4))\n",
    "ax[0].imshow(d, cmap='gray')\n",
    "ax[1].imshow(d1, cmap='gray')\n",
    "ax[2].imshow(d2, cmap='gray')\n",
    "ax[3].imshow(d3, cmap='gray')"
   ],
   "metadata": {
    "collapsed": false
   }
  },
  {
   "cell_type": "markdown",
   "source": [
    "La périodisation de l'image produit donc une image plus petite après rotation par succession de glissements. Il est en fait inutile de créer une rotation par succession de glissements d'une angle supérieur à un angle droit : il suffit d'effectuer la rotation complémentaire à l'angle droit, puis de tourner l'image discrète obtenue d'un angle droit (ou dans l'ordre inverse). Ainsi, on évite toute périodisation, et on obtient une image plus grande après rotation."
   ],
   "metadata": {
    "collapsed": false
   }
  },
  {
   "cell_type": "code",
   "execution_count": null,
   "outputs": [],
   "source": [
    "d = lena\n",
    "theta = 5 * np.pi / 6\n",
    "d1 = im.fftshear(d, -np.tan(theta / 2), y0, axis=1)\n",
    "d2 = im.fftshear(d1, np.sin(theta), x0, axis=0)\n",
    "d3 = im.fftshear(d2, -np.tan(theta / 2), y0, axis=1)\n",
    "\n",
    "_, ax = plt.subplots(2, 5, figsize=(20, 8))\n",
    "ax[0][0].imshow(d, cmap='gray')\n",
    "ax[0][1].imshow(d1, cmap='gray')\n",
    "ax[0][2].imshow(d2, cmap='gray')\n",
    "ax[0][3].imshow(d3, cmap='gray')\n",
    "ax[0][3].set_title('Après glissements')\n",
    "ax[0][4].imshow(d3, cmap='gray')\n",
    "ax[0][4].set_title('Image finale (succession de glissements)')\n",
    "\n",
    "# Now, use theta - np.pi / 2 as shearing angle,\n",
    "# and rotate the image by a right angle\n",
    "theta_2 = 5 * np.pi / 6 - np.pi / 2\n",
    "d1 = im.fftshear(d, -np.tan(theta_2 / 2), y0, axis=1)\n",
    "d2 = im.fftshear(d1, np.sin(theta_2), x0, axis=0)\n",
    "d3 = im.fftshear(d2, -np.tan(theta_2 / 2), y0, axis=1)\n",
    "d4 = np.rot90(d3, axes=(1, 0))\n",
    "\n",
    "ax[1][0].imshow(d, cmap='gray')\n",
    "ax[1][1].imshow(d1, cmap='gray')\n",
    "ax[1][2].imshow(d2, cmap='gray')\n",
    "ax[1][3].imshow(d3, cmap='gray')\n",
    "ax[1][3].set_title('Après glissements')\n",
    "ax[1][4].imshow(d4, cmap='gray')\n",
    "ax[1][4].set_title('Image finale (glissements + rotation 90°)')"
   ],
   "metadata": {
    "collapsed": false
   }
  },
  {
   "cell_type": "markdown",
   "source": [
    "L'algorithme final de rotation d'une image d'un angle arbitraire $\\theta \\in [-\\pi, \\pi]$ est donc :\n",
    "\n",
    "1. Poser\n",
    "\\begin{equation}\n",
    "\\begin{split}\n",
    "\\tilde{\\theta} & = \\theta \\text{ si } \\theta \\in \\left[ -\\frac{\\pi}{2}, \\frac{\\pi}{2} \\right]\\\\\n",
    "               & = \\theta - \\frac{\\pi}{2} \\text{ si } \\theta > \\frac{\\pi}{2}\\\\\n",
    "               & = \\theta + \\frac{\\pi}{2} \\text{ si } \\theta < -\\frac{\\pi}{2}\\\\\n",
    "\\end{split}\n",
    "\\end{equation}\n",
    "\n",
    "2. Effectuer une rotation d'angle $\\theta - \\tilde{\\theta}$ sur l'image (i.e. rotation d'un angle droit si $\\theta$ dépasse l'angle droit)\n",
    "3. Effectuer une rotation d'angle $\\tilde{\\theta}$ par succession de glissements"
   ],
   "metadata": {
    "collapsed": false
   }
  },
  {
   "cell_type": "code",
   "execution_count": null,
   "outputs": [],
   "source": [
    "d = X+Y\n",
    "x0 = (d.shape[1] + 1) / 2\n",
    "y0 = (d.shape[0] + 1) / 2 # centre de l’image"
   ],
   "metadata": {
    "collapsed": false
   }
  },
  {
   "cell_type": "code",
   "execution_count": null,
   "outputs": [],
   "source": [
    "theta = np.pi / 12\n",
    "_, ax = plt.subplots(6, 4, figsize=(16, 24))\n",
    "\n",
    "for j in range(1, 7):\n",
    "    d1 = im.fftshear(d, -np.tan(j * theta / 2), y0, axis=1)\n",
    "    d2 = im.fftshear(d1, np.sin(j * theta), x0, axis=0)\n",
    "    d3 = im.fftshear(d2, -np.tan(j * theta / 2), y0, axis=1)\n",
    "    _ax = ax[j - 1]\n",
    "    _ax[0].imshow(d, cmap='gray')\n",
    "    _ax[1].imshow(d1, cmap='gray')\n",
    "    _ax[2].imshow(d2, cmap='gray')\n",
    "    _ax[3].imshow(d3, cmap='gray')"
   ],
   "metadata": {
    "collapsed": false
   }
  },
  {
   "cell_type": "markdown",
   "source": [
    "Le domaine d'une image carrée sur lequel toute rotation est exacte semble être confiné au plus grand carré inscrit dans le domaine de l'image, orienté d'une angle de $\\frac{\\pi}{4}$ par rapport au domaine de l'image"
   ],
   "metadata": {
    "collapsed": false
   }
  },
  {
   "cell_type": "code",
   "execution_count": null,
   "outputs": [],
   "source": [],
   "metadata": {
    "collapsed": false
   }
  }
 ],
 "metadata": {
  "kernelspec": {
   "display_name": "Python 3",
   "language": "python",
   "name": "python3"
  },
  "language_info": {
   "codemirror_mode": {
    "name": "ipython",
    "version": 2
   },
   "file_extension": ".py",
   "mimetype": "text/x-python",
   "name": "python",
   "nbconvert_exporter": "python",
   "pygments_lexer": "ipython2",
   "version": "2.7.6"
  }
 },
 "nbformat": 4,
 "nbformat_minor": 0
}
