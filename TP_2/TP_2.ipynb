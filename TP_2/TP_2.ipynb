{
 "cells": [
  {
   "cell_type": "code",
   "execution_count": null,
   "metadata": {
    "collapsed": true
   },
   "outputs": [],
   "source": [
    "import numpy as np\n",
    "import imtools as im\n",
    "import matplotlib.pyplot as plt\n",
    "\n",
    "%matplotlib inline"
   ]
  },
  {
   "cell_type": "markdown",
   "source": [
    "# TP 1 - Exercice 2"
   ],
   "metadata": {
    "collapsed": false
   }
  },
  {
   "cell_type": "code",
   "execution_count": null,
   "outputs": [],
   "source": [
    "# Visualize radial profile\n",
    "def gamma(_r):\n",
    "    return np.arccos(_r) - _r * np.sqrt(1 - _r**2)"
   ],
   "metadata": {
    "collapsed": false
   }
  },
  {
   "cell_type": "code",
   "execution_count": null,
   "outputs": [],
   "source": [
    "r = np.linspace(0, 1, 400)\n",
    "plt.plot(r, gamma(r))"
   ],
   "metadata": {
    "collapsed": false
   }
  },
  {
   "cell_type": "markdown",
   "source": [
    "# Exercice 4"
   ],
   "metadata": {
    "collapsed": false
   }
  },
  {
   "cell_type": "code",
   "execution_count": null,
   "outputs": [],
   "source": [
    "room = im.load('room.pgm').astype('double')\n",
    "im.View(room)"
   ],
   "metadata": {
    "collapsed": false
   }
  },
  {
   "cell_type": "markdown",
   "source": [
    "## 1."
   ],
   "metadata": {
    "collapsed": false
   }
  },
  {
   "cell_type": "code",
   "execution_count": null,
   "outputs": [],
   "source": [
    "step = 5\n",
    "v = room[::step, ::step]  # Sub-sample room\n",
    "# Enlarge pixels of the subsampled image, so that it reaches the same\n",
    "# size (mod step) as the original room\n",
    "w = np.kron(v, np.ones(shape=(step, step)))\n",
    "ny, nx = room.shape"
   ],
   "metadata": {
    "collapsed": false
   }
  },
  {
   "cell_type": "code",
   "execution_count": null,
   "outputs": [],
   "source": [
    "im.View(np.hstack((room, w[:ny, :nx])))  # Display images side by side\n",
    "im.View(w)"
   ],
   "metadata": {
    "collapsed": false
   }
  },
  {
   "cell_type": "markdown",
   "source": [
    "## 2.\n",
    "\n",
    "Le phénomène observé est de l'aliasing.\n",
    "\n",
    "On observe notamment les lignes de l'image se dégrader : le fil en travers de l'image perd sa continuité ($(x, y) = (71, 72)$ sur l'image $w$), les tranches des livres deviennent indistinguables.\n",
    "Les rayures de la serviette, proches d'une onde pure, font apparaître un nouveau motif de la forme d'une onde pure mais de vecteur d'onde complètement différent ($(x, y) = (175, 386)$).\n",
    "Les contours sont crénelés ($(x, y) = (34, 51)$)"
   ],
   "metadata": {
    "collapsed": false
   }
  },
  {
   "cell_type": "markdown",
   "source": [
    "## 3."
   ],
   "metadata": {
    "collapsed": false
   }
  },
  {
   "cell_type": "code",
   "execution_count": null,
   "outputs": [],
   "source": [
    "f = np.zeros((512, 512))\n",
    "f[189, 49] = 2\n",
    "onde = np.real(np.fft.ifft2(f))"
   ],
   "metadata": {
    "collapsed": false
   }
  },
  {
   "cell_type": "code",
   "execution_count": null,
   "outputs": [],
   "source": [
    "im.View(onde)"
   ],
   "metadata": {
    "collapsed": false
   }
  },
  {
   "cell_type": "code",
   "execution_count": null,
   "outputs": [],
   "source": [
    "mod_fft_onde = np.abs(np.fft.fftshift(np.fft.fft2(onde)))\n",
    "im.View(mod_fft_onde)"
   ],
   "metadata": {
    "collapsed": false
   }
  },
  {
   "cell_type": "code",
   "execution_count": null,
   "outputs": [],
   "source": [
    "onde_subsampled = onde[::2, ::2]\n",
    "im.View(onde_subsampled)"
   ],
   "metadata": {
    "collapsed": false
   }
  },
  {
   "cell_type": "code",
   "execution_count": null,
   "outputs": [],
   "source": [
    "mod_fft_onde_s = np.abs(np.fft.fftshift(np.fft.fft2(onde_subsampled)))\n",
    "im.View(mod_fft_onde_s)"
   ],
   "metadata": {
    "collapsed": false
   }
  },
  {
   "cell_type": "markdown",
   "source": [
    "Les coordonnées des pics dans le domaine de Fourier sont :\n",
    "\n",
    " * Pour l'onde de base, sur un carré de $512 \\times 512$ :\n",
    " * * en indices : $(305, 445)$ et son symétrique par rapport au centre $(207, 67)$\n",
    " * * en coordonnées de Fourier (fftshift) : $(49, 189)$ et son symétrique $(-49, -189)$\n",
    "\n",
    " * Pour l'onde sous-échantillonée, sur un carré de $256 \\times 256$ :\n",
    " * * en indices : $(177, 61)$ et son symétrique $(79, 195)$\n",
    " * * après fftshift : $(-49, 67)$ et son symétrique $(49, -67)$\n",
    "\n",
    "La raison pour laquelle le sous-échantillonage provoque un phénomène d'aliasing est que les coordonnées du vecteur d'onde initial excèdent la taille de la fenêtre de calcul utilisée pour la transformée de Fourier de la deuxième image : les coordonnées supérieures à 128 sont aliasées, c'est-à-dire que le pic de la transformée de Fourier apparaîtra à la valeur modulo 256 comprise entre -128 et 128. Ainsi, le vecteur d'onde $(49, 189)$ est aliasé au vecteur d'onde $(49, 189 - 256) = (49, -67)$, et de façon équivalente son symétrique est aliasé à $(-49, 67)$. L'onde est ainsi complètement transformée par ce sous-échantillonage."
   ],
   "metadata": {
    "collapsed": false
   }
  },
  {
   "cell_type": "markdown",
   "source": [
    "# Exercice 5\n",
    "## 1."
   ],
   "metadata": {
    "collapsed": false
   }
  },
  {
   "cell_type": "code",
   "execution_count": null,
   "outputs": [],
   "source": [
    "onde_sqr = onde ** 2\n",
    "# Normalize the waves, for plotting,\n",
    "# otherwise onde_sqr is invisible because it takes very small values\n",
    "ondes_nrm = np.hstack((onde / np.max(onde), onde_sqr / np.max(onde_sqr)))"
   ],
   "metadata": {
    "collapsed": false
   }
  },
  {
   "cell_type": "code",
   "execution_count": null,
   "outputs": [],
   "source": [
    "im.View(ondes_nrm)"
   ],
   "metadata": {
    "collapsed": false
   }
  },
  {
   "cell_type": "code",
   "execution_count": null,
   "outputs": [],
   "source": [
    "_, axes = plt.subplots(1, 2, figsize=(12, 6))\n",
    "axes[0].imshow(onde[:len(onde)//2, :len(onde)//2], cmap='gray')  # Slice to zoom in\n",
    "axes[1].imshow(onde_sqr[:len(onde)//2, :len(onde)//2], cmap='gray')"
   ],
   "metadata": {
    "collapsed": false
   }
  },
  {
   "cell_type": "markdown",
   "source": [
    "L'orientation du vecteur d'onde a changé. On s'attend à un doublement de la fréquence de l'onde initiale, car mettre au carré un onde sinusoïdale revient à \"replier\" la partie négative de $sin\\left(\\langle k, x \\rangle\\right)$ vers des valeurs positives (i.e. \"prendre la valeur absolue\"). La valeur moyenne de l'onde est alors strictement positive, et la fréquence est doublée (on peut s'en convaincre à l'aide de l'identité trigonométrique $sin^2(x) = \\frac{1}{2}(1 - cos(2x))$ )\n",
    "\n",
    "Or, si la fréquence double, il est possible qu'on observe de l'aliasing : passant d'un vecteur d'onde $k$ à $2k$, l'onde obtenue peut ne pas respecter les conditions de Shannon. Ici, le vecteur d'onde est $2k = 2 \\cdot (49, 189) = (98, 378)$. On voit bien que ce vecteur est en-dehors du carré de Shannon situé entre $(-256, -256)$ et $(256, 256)$. Le vecteur d'onde $2k$ sera donc replié après aliasing en un vecteur $\\hat{k} = (98, 378 - 512) = (98, -134)$.\n",
    "\n",
    "On peut vérifier ceci à l'aide de la transformée de Fourier de la nouvelle onde obtenue :"
   ],
   "metadata": {
    "collapsed": false
   }
  },
  {
   "cell_type": "code",
   "execution_count": null,
   "outputs": [],
   "source": [
    "onde_sqr_fft = np.abs(np.fft.fftshift(np.fft.fft2(onde_sqr)))"
   ],
   "metadata": {
    "collapsed": false
   }
  },
  {
   "cell_type": "code",
   "execution_count": null,
   "outputs": [],
   "source": [
    "im.View(onde_sqr_fft)"
   ],
   "metadata": {
    "collapsed": false
   }
  },
  {
   "cell_type": "code",
   "execution_count": null,
   "outputs": [],
   "source": [
    "_, axes = plt.subplots(1, 3, figsize=(15, 5))\n",
    "axes[0].imshow(onde_sqr_fft, cmap='gray')\n",
    "axes[1].imshow(onde_sqr_fft[118:127, 350:359], cmap='gray')\n",
    "axes[2].imshow(onde_sqr_fft[386:395, 154:163], cmap='gray')"
   ],
   "metadata": {
    "collapsed": false
   }
  },
  {
   "cell_type": "markdown",
   "source": [
    "Les pics d'intensité étant quasiment invisibles sur le graphe complet de la FFT, on zoome sur les pics anticipés, aux indices translatés du fait de l'opération fftshift : $(98 + 256, -134 + 256) = (354, 122)$ et $(-98 + 256, 134 + 256) = (158, 390)$. On observe par ailleurs un pic centré en $(0, 0)$ dans les coordonnées de Fourier, qui correspond au terme constant de l'onde.\n",
    "\n",
    "Les résultats sont donc tels qu'attendus : repliement du vecteur d'onde dans la fenêtre de Fourier."
   ],
   "metadata": {
    "collapsed": false
   }
  },
  {
   "cell_type": "markdown",
   "source": [
    "## 2."
   ],
   "metadata": {
    "collapsed": false
   }
  },
  {
   "cell_type": "code",
   "execution_count": null,
   "outputs": [],
   "source": [
    "onde_z = im.fftzoom(onde, 2)\n",
    "onde_z_sqr = onde_z ** 2\n",
    "ondes_z_nrm = np.hstack((onde_z / np.max(onde_z), onde_z_sqr / np.max(onde_z_sqr)))"
   ],
   "metadata": {
    "collapsed": false
   }
  },
  {
   "cell_type": "code",
   "execution_count": null,
   "outputs": [],
   "source": [
    "im.View(ondes_z_nrm)"
   ],
   "metadata": {
    "collapsed": false
   }
  },
  {
   "cell_type": "code",
   "execution_count": null,
   "outputs": [],
   "source": [
    "_, axes = plt.subplots(1, 2, figsize=(12, 6))\n",
    "axes[0].imshow(onde_z[:len(onde_z)//6, :len(onde_z)//6], cmap='gray')\n",
    "axes[1].imshow(onde_z_sqr[:len(onde_z)//6, :len(onde_z)//6], cmap='gray')"
   ],
   "metadata": {
    "collapsed": false
   }
  },
  {
   "cell_type": "markdown",
   "source": [
    "Le phénomène d'aliasing ne se reproduit plus : le carré de Shannon s'étend maintenant de $(-512, -512)$ à $(512, 512)$, et contient donc le vecteur $2k$. On observe donc l'onde attendue, c'est-à-dire l'onde originale avec une fréquence deux fois plus élevée"
   ],
   "metadata": {
    "collapsed": false
   }
  },
  {
   "cell_type": "markdown",
   "source": [
    "## 3."
   ],
   "metadata": {
    "collapsed": false
   }
  },
  {
   "cell_type": "code",
   "execution_count": null,
   "outputs": [],
   "source": [
    "def gradn(u: np.ndarray) -> np.ndarray:\n",
    "    if len(u.shape) != 2:\n",
    "        raise ValueError(f'Wrong dimension for u : expected 2, got {len(u.shape)}')\n",
    "\n",
    "    m, n = u.shape\n",
    "    v = np.zeros(shape=(m-1, n-1), dtype=float)\n",
    "\n",
    "    for i in range(m - 1):\n",
    "        for j in range(n - 1):\n",
    "            v[i, j] = np.sqrt((u[i + 1, j] - u[i, j])**2 + (u[i, j + 1] - u[i, j])**2)\n",
    "\n",
    "    return v"
   ],
   "metadata": {
    "collapsed": false
   }
  },
  {
   "cell_type": "code",
   "execution_count": null,
   "outputs": [],
   "source": [
    "nimes = im.load('nimes.pgm').astype('double')"
   ],
   "metadata": {
    "collapsed": false
   }
  },
  {
   "cell_type": "code",
   "execution_count": null,
   "outputs": [],
   "source": [
    "grad_nimes = gradn(nimes)"
   ],
   "metadata": {
    "collapsed": false
   }
  },
  {
   "cell_type": "code",
   "execution_count": null,
   "outputs": [],
   "source": [
    "_, axes = plt.subplots(1, 2, figsize=(14, 7))\n",
    "axes[0].imshow(nimes[205:255, 255:305])\n",
    "axes[1].imshow(grad_nimes[205:255, 255:305])"
   ],
   "metadata": {
    "collapsed": false
   }
  },
  {
   "cell_type": "markdown",
   "source": [
    "On observe de l'aliasing au niveau d'une portion de l'image ressemblant à une onde pure, car on considère dans le calcul du gradient le carré de l'image. La fréquence de cette onde au carré est certainement repliée dans le domaine spectral. Pour bien calculer le gradient, on peut procéder à un zoom par zéro-padding sur l'image originale."
   ],
   "metadata": {
    "collapsed": false
   }
  },
  {
   "cell_type": "code",
   "execution_count": null,
   "outputs": [],
   "source": [
    "nimes_z = im.fftzoom(nimes, 2)\n",
    "grad_nimes_z = gradn(nimes_z)\n",
    "\n",
    "_, axes = plt.subplots(1, 2, figsize=(14, 7))\n",
    "axes[0].imshow(nimes_z[2*205:2*255, 2*255:2*305])\n",
    "axes[1].imshow(grad_nimes_z[2*205:2*255, 2*255:2*305])"
   ],
   "metadata": {
    "collapsed": false
   }
  },
  {
   "cell_type": "code",
   "execution_count": null,
   "outputs": [],
   "source": [],
   "metadata": {
    "collapsed": false
   }
  }
 ],
 "metadata": {
  "kernelspec": {
   "display_name": "Python 3",
   "language": "python",
   "name": "python3"
  },
  "language_info": {
   "codemirror_mode": {
    "name": "ipython",
    "version": 2
   },
   "file_extension": ".py",
   "mimetype": "text/x-python",
   "name": "python",
   "nbconvert_exporter": "python",
   "pygments_lexer": "ipython2",
   "version": "2.7.6"
  }
 },
 "nbformat": 4,
 "nbformat_minor": 0
}
