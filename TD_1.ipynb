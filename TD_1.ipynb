{
 "cells": [
  {
   "cell_type": "code",
   "execution_count": null,
   "metadata": {
    "collapsed": true
   },
   "outputs": [],
   "source": [
    "import numpy as np\n",
    "from matplotlib import pyplot as plt\n",
    "from scipy import special as sc\n",
    "from mpl_toolkits.axes_grid1 import make_axes_locatable\n",
    "\n",
    "%matplotlib inline"
   ]
  },
  {
   "cell_type": "code",
   "execution_count": null,
   "outputs": [],
   "source": [
    "def r_grid(low, high, resolution, center=(0., 0.)):\n",
    "    \"\"\"\n",
    "    Compute a grid of radii on a square, between (x, y) = (low, low) to (high, high)\n",
    "    :param low: float\n",
    "    :param high: float\n",
    "    :param resolution: int, number of pixels in one direction\n",
    "    :param center: coordinates of the center (origin) point of the grid\n",
    "    :return: 2D array of floats\n",
    "    \"\"\"\n",
    "    x = np.linspace(low, high, resolution)\n",
    "    y = np.linspace(low, high, resolution)\n",
    "    xx, yy = np.meshgrid(x, y, sparse=True)\n",
    "    _r = np.sqrt((xx - center[0])**2 + (yy - center[1])**2)\n",
    "    return _r"
   ],
   "metadata": {
    "collapsed": false
   }
  },
  {
   "cell_type": "code",
   "execution_count": null,
   "outputs": [],
   "source": [
    "def normalized_kdiff(_r):\n",
    "    \"\"\"\n",
    "    Compute the normalized K_diffusion at radius _r\n",
    "    :param _r : number or array of positive numbers\n",
    "    \"\"\"\n",
    "    j_1 = sc.jv(1, _r)\n",
    "    return (2 * j_1 / _r) ** 2\n",
    "\n",
    "def airy_sq(low, high, resolution):\n",
    "    \"\"\"\n",
    "    Compute Airy point spread on a square from (x, y) = (low, low) to (high, high)\n",
    "    :param low : float\n",
    "    :param high : float\n",
    "    :param resolution : int, number of pixels in one direction\n",
    "    \"\"\"\n",
    "    _r = r_grid(low, high, resolution)\n",
    "    airy_normalized = normalized_kdiff(_r)\n",
    "    return airy_normalized"
   ],
   "metadata": {
    "collapsed": false
   }
  },
  {
   "cell_type": "code",
   "execution_count": null,
   "outputs": [],
   "source": [
    "# Q3\n",
    "def kdiff_saturated(_r, saturation):\n",
    "    res = normalized_kdiff(_r)\n",
    "    saturated_res = np.minimum(res, saturation)\n",
    "    return saturated_res\n",
    "\n",
    "def airy_saturated(low, high, resolution, saturation):\n",
    "    _r = r_grid(low, high, resolution)\n",
    "    airy_sat = kdiff_saturated(_r, saturation)\n",
    "    return airy_sat"
   ],
   "metadata": {
    "collapsed": false
   }
  },
  {
   "cell_type": "code",
   "execution_count": null,
   "outputs": [],
   "source": [
    "# Q1\n",
    "r = np.linspace(0, 10, 300)[1:]  # slice to avoid r[0] == 0\n",
    "kdiff = normalized_kdiff(r)\n",
    "fig, ax = plt.subplots(1, 2, figsize=(16, 6))\n",
    "ax[0].plot(r, kdiff)\n",
    "ax[0].set_title('Radial diffusion profile')\n",
    "ax[0].set_xlabel('Radius r [L]')\n",
    "ax[0].set_ylabel('(2 * J_1(r) / r) ^ 2 [L^(-1)]')\n",
    "\n",
    "# Q2\n",
    "airy_analytic = airy_sq(-10, 10, 300)\n",
    "im = ax[1].imshow(airy_analytic, extent=[-10, 10, -10, 10], cmap='gray', origin='lower')\n",
    "ax[1].set_title('Airy point spread (analytic)')\n",
    "ax[1].set_xlabel('x [L]')\n",
    "ax[1].set_ylabel('y [L]')\n",
    "div = make_axes_locatable(ax[1])\n",
    "cax = div.append_axes('right', size='5%', pad=0.1)\n",
    "_ = fig.colorbar(im, cax=cax)"
   ],
   "metadata": {
    "collapsed": false
   }
  },
  {
   "cell_type": "code",
   "execution_count": null,
   "outputs": [],
   "source": [
    "_saturation = 0.01\n",
    "\n",
    "r = np.linspace(0, 10, 300)[1:]  # slice to avoid r[0] == 0\n",
    "kdiff_sat = kdiff_saturated(r, _saturation)\n",
    "fig, ax = plt.subplots(1, 2, figsize=(16, 6))\n",
    "ax[0].plot(r, kdiff_sat)\n",
    "ax[0].set_title('Radial diffusion profile (saturated)')\n",
    "ax[0].set_xlabel('Radius r [L]')\n",
    "ax[0].set_ylabel('(2 * J_1(r) / r) ^ 2 [L^(-1)]')\n",
    "\n",
    "airy_sat = airy_saturated(-10, 10, 300, _saturation)\n",
    "im = ax[1].imshow(airy_sat, extent=[-10, 10, -10, 10], cmap='gray', origin='lower')\n",
    "ax[1].set_title(f'Airy point spread (saturated at {_saturation})')\n",
    "ax[1].set_xlabel('x [L]')\n",
    "ax[1].set_ylabel('y [L]')\n",
    "div = make_axes_locatable(ax[1])\n",
    "cax = div.append_axes('right', size='5%', pad=0.1)\n",
    "_ = fig.colorbar(im, cax=cax)"
   ],
   "metadata": {
    "collapsed": false
   }
  },
  {
   "cell_type": "code",
   "execution_count": null,
   "outputs": [],
   "source": [
    "# Tests with different params\n",
    "# import itertools\n",
    "# fig, ax = plt.subplots(4, 4, figsize=(24, 24))\n",
    "# saturations = [1e-2, 1e-4, 1e-5, 1e-7]\n",
    "# resolutions = [50, 250, 500, 800]\n",
    "# params = itertools.product(saturations, resolutions)\n",
    "# for i, (_sat, _res) in enumerate(params):\n",
    "#     row_idx = i//4\n",
    "#     col_idx = i%4\n",
    "#     airy_sat = airy_saturated(-10, 10, _res, _sat)\n",
    "#     ax[row_idx][col_idx].imshow(airy_sat, extent=[-10, 10, -10, 10], cmap='gray')\n",
    "#     ax[row_idx][col_idx].set_title(f'Resolution = {_res}², saturation = {_sat}')"
   ],
   "metadata": {
    "collapsed": false
   }
  },
  {
   "cell_type": "code",
   "execution_count": null,
   "outputs": [],
   "source": [
    "fig, ax = plt.subplots(1, 3, figsize=(18, 6))\n",
    "fig.suptitle('Numerical artifacts on saturated Airy point spread')\n",
    "ax[0].imshow(airy_saturated(-10, 10, resolution=250, saturation=1e-05), cmap='gray')\n",
    "ax[0].set_title(f'Resolution = 250, saturation = 1e-05')\n",
    "ax[1].imshow(airy_saturated(-10, 10, resolution=250, saturation=1e-07), cmap='gray')\n",
    "ax[1].set_title(f'Resolution = 250, saturation = 1e-07')\n",
    "ax[2].imshow(airy_saturated(-10, 10, resolution=800, saturation=1e-05), cmap='gray')\n",
    "ax[2].set_title(f'Resolution = 800, saturation = 1e-05')\n"
   ],
   "metadata": {
    "collapsed": false
   }
  },
  {
   "cell_type": "code",
   "execution_count": null,
   "outputs": [],
   "source": [
    "_saturation = 1e-7\n",
    "\n",
    "r = np.linspace(0, 10, 125)[1:]  # slice to avoid r[0] == 0\n",
    "kdiff_sat = kdiff_saturated(r, _saturation)\n",
    "fig, ax = plt.subplots(1, 1, figsize=(6, 6))\n",
    "ax.plot(r, kdiff_sat)\n",
    "ax.set_title(f'Radial diffusion profile (saturated at {_saturation}, resolution=125)')\n",
    "ax.set_xlabel('Radius r [L]')\n",
    "ax.set_ylabel('(2 * J_1(r) / r) ^ 2 [L^(-1)]')\n",
    "np.all(kdiff_sat == kdiff_sat[0])"
   ],
   "metadata": {
    "collapsed": false
   }
  },
  {
   "cell_type": "code",
   "execution_count": null,
   "outputs": [],
   "source": [
    "test = airy_saturated(-10, 10, 250, 1e-07)\n",
    "test2 = kdiff_saturated(r_grid(-10, 10, 250), 1e-07)\n",
    "np.all(test2 == test2[0][0])"
   ],
   "metadata": {
    "collapsed": false
   }
  },
  {
   "cell_type": "code",
   "execution_count": null,
   "outputs": [],
   "source": [
    "# Q3\n",
    "def ftm_normalized(rho):\n",
    "    return np.arccos(rho) - rho * np.sqrt(1 - rho**2)\n",
    "\n",
    "def ftm(xi, diam=0.10, _lambda=500e-9, f=0.80):\n",
    "    rho = np.abs(xi) * (_lambda * f) / (2 * np.pi * diam)\n",
    "    _res = ((_lambda * diam) ** 2 / 4) * ftm_normalized(rho)\n",
    "    return np.abs(_res)\n",
    "\n",
    "fig, ax = plt.subplots(1, 2, figsize=(12, 6))\n",
    "xi_max = (2 * np.pi * 0.10) / (500e-9 * 0.80)\n",
    "_xi = np.linspace(0, xi_max, 1000)\n",
    "ftm_actual = ftm(_xi)\n",
    "ax[0].plot(_xi, ftm_actual)\n",
    "ax[0].set_title('FTM (actual)')\n",
    "ax[0].set_xlabel('|xi|')\n",
    "ax[0].set_ylabel('FTM')\n",
    "\n",
    "rho_range = np.linspace(0, 1, 500)\n",
    "ftm_nrm = ftm_normalized(rho_range)\n",
    "ax[1].plot(rho_range, ftm_nrm / np.max(ftm_nrm))\n",
    "ax[1].set(aspect='equal')\n",
    "ax[1].set_title('FTM (normalized)')\n",
    "ax[1].set_xlabel('Normalized rho [-]')\n",
    "_ = ax[1].set_ylabel('Normalized FTM [-]')"
   ],
   "metadata": {
    "collapsed": false
   }
  },
  {
   "cell_type": "code",
   "execution_count": null,
   "outputs": [],
   "source": [
    "r = r_grid(-1, 1, 300)\n",
    "ftm_2d = np.nan_to_num(ftm_normalized(r), nan=0.)  # values where rho > 1 are set to 0\n",
    "plt.imshow(ftm_2d, cmap='gray', extent=[-1, 1, -1, 1])\n",
    "plt.suptitle('2D FTM, with rho = x**2 + y**2')\n",
    "plt.xlabel('x [-]')\n",
    "plt.ylabel('y [-]')\n",
    "_ = plt.colorbar()"
   ],
   "metadata": {
    "collapsed": false
   }
  },
  {
   "cell_type": "code",
   "execution_count": null,
   "outputs": [],
   "source": [
    "resolution = 2049  # odd number, to have an actual center\n",
    "\n",
    "airy = np.nan_to_num(airy_sq(-100, 100, resolution), nan=1.)\n",
    "pixel_length = 200 / resolution"
   ],
   "metadata": {
    "collapsed": false
   }
  },
  {
   "cell_type": "code",
   "execution_count": null,
   "outputs": [],
   "source": [
    "fig, ax = plt.subplots(1, 2, figsize=(20, 8))\n",
    "divs = [make_axes_locatable(ax[i]) for i in range(len(ax))]\n",
    "caxs = [div.append_axes('right', size='5%', pad=0.1) for div in divs]\n",
    "\n",
    "# Slice the image to zoom on the center\n",
    "window = 64\n",
    "airy_zoom = airy[resolution//2 - window:resolution//2 + window,\n",
    "                 resolution//2 - window:resolution//2 + window]\n",
    "im = ax[0].imshow(airy_zoom,\n",
    "                  extent=pixel_length * np.array([-window, window, -window, window]),\n",
    "                  cmap='gray_r',\n",
    "                  origin='lower')\n",
    "ax[0].set_title('Airy point spread')\n",
    "fig.colorbar(im, cax=caxs[0])\n",
    "\n",
    "airy_fft = np.fft.fft2(airy)\n",
    "shifted = np.fft.fftshift(airy_fft)\n",
    "airy_fft_m = np.abs(shifted)\n",
    "airy_fft_zoom = airy_fft_m[resolution//2 - window:resolution//2 + window,\n",
    "                           resolution//2 - window:resolution//2 + window]\n",
    "ax[1].imshow(airy_fft_zoom,\n",
    "             extent=pixel_length * np.array([-window, window, -window, window]),\n",
    "             cmap='gray_r',\n",
    "             origin='lower')\n",
    "ax[1].set_title('FTM (from Airy point spread FFT)')\n",
    "fig.colorbar(im, cax=caxs[1])"
   ],
   "metadata": {
    "collapsed": false
   }
  },
  {
   "cell_type": "code",
   "execution_count": null,
   "outputs": [],
   "source": [
    "airy_midline = airy_fft_m[resolution//2, :]\n",
    "\n",
    "# filter out the very small values (get support)\n",
    "airy_fft_max = np.max(airy_midline)\n",
    "supp = airy_midline > 1e-3 * airy_fft_max\n",
    "airy_fft_support = airy_midline[supp]\n",
    "\n",
    "n = len(airy_fft_support)\n",
    "fig, ax = plt.subplots(1, 2, figsize=(12, 6))\n",
    "ax[0].plot(pixel_length * np.array(range(n)), airy_fft_support)\n",
    "ax[0].set_title('FFT profile (on full picture length)')\n",
    "ax[1].plot(pixel_length * np.array(range(n//2 + 1)), airy_fft_support[n//2:])\n",
    "ax[1].set_title('FFT profile (on half picture length)')\n",
    "for _ax in ax:\n",
    "    _ax.set_xlabel('x [L]')\n",
    "    _ax.set_ylabel('FFT [-]')"
   ],
   "metadata": {
    "collapsed": false
   }
  },
  {
   "cell_type": "code",
   "execution_count": null,
   "outputs": [],
   "source": [
    "# Q4\n",
    "def r_linear(low, high, resolution, center=0.):\n",
    "    \"\"\"\n",
    "    Compute an 1D array of distances from the center\n",
    "    \"\"\"\n",
    "    _r = np.linspace(low, high, resolution)\n",
    "    return np.abs(_r - center)"
   ],
   "metadata": {
    "collapsed": false
   }
  },
  {
   "cell_type": "code",
   "execution_count": null,
   "outputs": [],
   "source": [
    "resolution = 1000\n",
    "left_center = -2.\n",
    "right_center = 1.3\n",
    "\n",
    "airy_left = normalized_kdiff(r_linear(-10, 10, resolution, center=left_center))\n",
    "airy_right = normalized_kdiff(r_linear(-10, 10, resolution, center=right_center))\n",
    "\n",
    "x = np.linspace(-10, 10, resolution)\n",
    "fig = plt.figure(figsize=(8, 6))\n",
    "plt.plot(x, airy_left + airy_right)\n",
    "plt.vlines(x=left_center, ymin=0, ymax=1.1, label='Left center', colors='g')\n",
    "plt.vlines(x=right_center, ymin=0, ymax=1.1, label='Right center', colors='g')\n",
    "plt.vlines(x=(left_center + right_center) / 2, ymin=0, ymax=1.1,\n",
    "           label='Middle of centers', colors='r')\n",
    "plt.legend()\n",
    "plt.suptitle('Sum of two Airy intensity profiles on the line passing through both centers')\n",
    "plt.xlabel('x [L]')\n",
    "plt.ylabel('Intensity, normalized [-]')"
   ],
   "metadata": {
    "collapsed": false
   }
  },
  {
   "cell_type": "code",
   "execution_count": null,
   "outputs": [],
   "source": [
    "xc_l = -2.0\n",
    "xc_r = 1.3\n",
    "x_mid = (xc_l + xc_r) / 2\n",
    "step_size = 0.3\n",
    "min_step_size = 1e-5\n",
    "airy_left = np.nan_to_num(normalized_kdiff(r_linear(-2, 2, resolution, center=xc_l)), nan=1.)\n",
    "airy_right = np.nan_to_num(normalized_kdiff(r_linear(-2, 2, resolution, center=xc_r)), nan=1.)\n",
    "airy_max = np.max(airy_left + airy_right)\n",
    "diff = normalized_kdiff(xc_r - x_mid) + normalized_kdiff(x_mid - xc_l) - airy_max\n",
    "\n",
    "while diff < 0:\n",
    "    dist = xc_r - xc_l\n",
    "    step = max(step_size * diff, min_step_size)\n",
    "    xc_r = xc_r - step\n",
    "    x_mid -= step / 2\n",
    "    airy_right = np.nan_to_num(normalized_kdiff(r_linear(-2.0, 2.0, resolution, center=xc_r)), nan=1.)\n",
    "    airy_sum = airy_left + airy_right\n",
    "\n",
    "    # slice to aid np.max\n",
    "    diff = (normalized_kdiff(xc_r - x_mid) + normalized_kdiff(x_mid - xc_l)\n",
    "            - np.max(airy_sum[int(resolution * (1 - (2 - x_mid) / 4)):\n",
    "                              int(resolution * (1 - (2 - xc_r) / 4))]))"
   ],
   "metadata": {
    "collapsed": false
   }
  },
  {
   "cell_type": "code",
   "execution_count": null,
   "outputs": [],
   "source": [
    "airy_left = np.nan_to_num(normalized_kdiff(r_linear(-10, 10, resolution, center=xc_l)), nan=1.)\n",
    "airy_right = np.nan_to_num(normalized_kdiff(r_linear(-10, 10, resolution, center=xc_r)), nan=1.)\n",
    "\n",
    "x = np.linspace(-10, 10, resolution)\n",
    "fig = plt.figure(figsize=(6, 5))\n",
    "plt.plot(x, airy_left + airy_right, label='K_diffusion')\n",
    "plt.vlines(x=[xc_r, xc_l], ymin=0, ymax=1.2, colors=['g', 'g'], label='Centers')\n",
    "plt.xlabel('x [L]')\n",
    "plt.ylabel('K_diffusion profile [-]')\n",
    "plt.suptitle(f'Results after convergence : xc_r - xc_l = '\n",
    "             f'{\"{:.5f}\".format(xc_r - xc_l)}, delta_I = {\"{:.2e}\".format(diff)}')\n",
    "plt.legend()"
   ],
   "metadata": {
    "collapsed": false
   }
  },
  {
   "cell_type": "code",
   "execution_count": null,
   "outputs": [],
   "source": [
    "_saturation = 0.01\n",
    "r = np.linspace(3.5, 4, 50000)  # 50k points on [3.5, 4] => precision = 1e-5\n",
    "kdiff_sat = kdiff_saturated(r, _saturation)\n",
    "r_a_idx = np.argmin(kdiff_sat)\n",
    "print(f'Airy radius : r_a = {\"{:.5e}\".format(r[r_a_idx])}')\n",
    "print(f'r_critical / r_a = {\"{:.5e}\".format((xc_r - xc_l) / r[r_a_idx])}')"
   ],
   "metadata": {
    "collapsed": false
   }
  },
  {
   "cell_type": "code",
   "execution_count": null,
   "outputs": [],
   "source": [
    "def kdiff_telescope(_r, epsilon):\n",
    "    return ( (sc.jv(1, _r) - epsilon * sc.jv(1, _r * epsilon)) / _r) ** 2\n",
    "\n",
    "def airy_telescope(low, high, resolution, epsilon):\n",
    "    _r = r_grid(low, high, resolution)\n",
    "    return kdiff_telescope(_r, epsilon)"
   ],
   "metadata": {
    "collapsed": false
   }
  },
  {
   "cell_type": "code",
   "execution_count": null,
   "outputs": [],
   "source": [
    "# Q3 codes, with these new functions\n",
    "resolution = 2049  # odd number, to have an actual center\n",
    "pixel_length = 200 / resolution\n",
    "epsilon = .25\n",
    "\n",
    "airy_t = np.nan_to_num(airy_telescope(-100, 100, resolution, epsilon=epsilon), nan=1.)\n",
    "airy_fft = np.fft.fft2(airy_t)\n",
    "shifted = np.fft.fftshift(airy_fft)\n",
    "airy_fft_m = np.abs(shifted)\n",
    "airy_midline_t = airy_fft_m[resolution//2, :]\n",
    "airy_fft_support_t = airy_midline_t[supp]  # Previous support\n",
    "fig, ax = plt.subplots(1, 2, figsize=(12, 6))\n",
    "ax[0].plot(pixel_length * np.array(range(n//2 + 1)), airy_fft_support[n//2:])\n",
    "ax[0].set_title('FFT profile on support (no occlusion)')\n",
    "ax[1].plot(pixel_length * np.array(range(n//2 + 1)), airy_fft_support_t[n//2:])\n",
    "ax[1].set_title(f'FFT profile on support (occlusion with epsilon = {\"{:.2f}\".format(epsilon)})')\n",
    "for _ax in ax:\n",
    "    _ax.set_xlabel('x [L]')\n",
    "    _ax.set_ylabel('FFT [-]')"
   ],
   "metadata": {
    "collapsed": false
   }
  },
  {
   "cell_type": "code",
   "execution_count": null,
   "outputs": [],
   "source": [],
   "metadata": {
    "collapsed": false
   }
  }
 ],
 "metadata": {
  "kernelspec": {
   "display_name": "Python 3",
   "language": "python",
   "name": "python3"
  },
  "language_info": {
   "codemirror_mode": {
    "name": "ipython",
    "version": 2
   },
   "file_extension": ".py",
   "mimetype": "text/x-python",
   "name": "python",
   "nbconvert_exporter": "python",
   "pygments_lexer": "ipython2",
   "version": "2.7.6"
  }
 },
 "nbformat": 4,
 "nbformat_minor": 0
}
